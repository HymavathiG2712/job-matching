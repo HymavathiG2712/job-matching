{
 "cells": [
  {
   "cell_type": "code",
   "execution_count": 1,
   "id": "5c066159",
   "metadata": {},
   "outputs": [],
   "source": [
    "#Text Cleaning of Resumes and Job Designation\n",
    "# Pre processing "
   ]
  },
  {
   "cell_type": "code",
   "execution_count": 4,
   "id": "26053596",
   "metadata": {},
   "outputs": [],
   "source": [
    "import pandas as pd\n",
    "import re"
   ]
  },
  {
   "cell_type": "code",
   "execution_count": 5,
   "id": "e7e021a0",
   "metadata": {},
   "outputs": [],
   "source": [
    "df=pd.read_csv(\"job_resumes.csv\")"
   ]
  },
  {
   "cell_type": "code",
   "execution_count": 6,
   "id": "7ff04e28",
   "metadata": {},
   "outputs": [
    {
     "name": "stdout",
     "output_type": "stream",
     "text": [
      "Job_Designation       748\n",
      "Resume_Description      0\n",
      "dtype: int64\n"
     ]
    }
   ],
   "source": [
    "print(df.isnull().sum())"
   ]
  },
  {
   "cell_type": "code",
   "execution_count": 7,
   "id": "2c970ed0",
   "metadata": {},
   "outputs": [],
   "source": [
    "df = df.dropna()"
   ]
  },
  {
   "cell_type": "code",
   "execution_count": 8,
   "id": "030e9fcf",
   "metadata": {
    "scrolled": true
   },
   "outputs": [
    {
     "name": "stdout",
     "output_type": "stream",
     "text": [
      "Job_Designation       0\n",
      "Resume_Description    0\n",
      "dtype: int64\n"
     ]
    }
   ],
   "source": [
    "print(df.isnull().sum())"
   ]
  },
  {
   "cell_type": "code",
   "execution_count": 9,
   "id": "6e6bf0c2",
   "metadata": {},
   "outputs": [
    {
     "data": {
      "text/plain": [
       "0"
      ]
     },
     "execution_count": 9,
     "metadata": {},
     "output_type": "execute_result"
    }
   ],
   "source": [
    "df['Resume_Description'].duplicated().sum()"
   ]
  },
  {
   "cell_type": "code",
   "execution_count": 10,
   "id": "5540826e",
   "metadata": {},
   "outputs": [],
   "source": [
    "df['Resume_Description'] = df['Resume_Description'].str.lower()\n",
    "df['Job_Designation'] = df['Job_Designation'].str.lower()"
   ]
  },
  {
   "cell_type": "code",
   "execution_count": 11,
   "id": "4e8a918a",
   "metadata": {},
   "outputs": [
    {
     "data": {
      "text/html": [
       "<div>\n",
       "<style scoped>\n",
       "    .dataframe tbody tr th:only-of-type {\n",
       "        vertical-align: middle;\n",
       "    }\n",
       "\n",
       "    .dataframe tbody tr th {\n",
       "        vertical-align: top;\n",
       "    }\n",
       "\n",
       "    .dataframe thead th {\n",
       "        text-align: right;\n",
       "    }\n",
       "</style>\n",
       "<table border=\"1\" class=\"dataframe\">\n",
       "  <thead>\n",
       "    <tr style=\"text-align: right;\">\n",
       "      <th></th>\n",
       "      <th>Job_Designation</th>\n",
       "      <th>Resume_Description</th>\n",
       "    </tr>\n",
       "  </thead>\n",
       "  <tbody>\n",
       "    <tr>\n",
       "      <th>0</th>\n",
       "      <td>database_administrator</td>\n",
       "      <td>principal consultant principal consultant prin...</td>\n",
       "    </tr>\n",
       "    <tr>\n",
       "      <th>1</th>\n",
       "      <td>database_administrator\\nsoftware_developer</td>\n",
       "      <td>application/ui developer application/ui &lt;span ...</td>\n",
       "    </tr>\n",
       "    <tr>\n",
       "      <th>2</th>\n",
       "      <td>database_administrator</td>\n",
       "      <td>front end ux web accessibility developer &lt;span...</td>\n",
       "    </tr>\n",
       "    <tr>\n",
       "      <th>3</th>\n",
       "      <td>database_administrator</td>\n",
       "      <td>oracle database administrator oracle &lt;span cla...</td>\n",
       "    </tr>\n",
       "    <tr>\n",
       "      <th>4</th>\n",
       "      <td>database_administrator\\nsystems_administrator</td>\n",
       "      <td>application dba application dba application db...</td>\n",
       "    </tr>\n",
       "    <tr>\n",
       "      <th>...</th>\n",
       "      <td>...</td>\n",
       "      <td>...</td>\n",
       "    </tr>\n",
       "    <tr>\n",
       "      <th>74</th>\n",
       "      <td>systems_administrator</td>\n",
       "      <td>freelance/sole proprietor freelance/sole propr...</td>\n",
       "    </tr>\n",
       "    <tr>\n",
       "      <th>75</th>\n",
       "      <td>software_developer\\nfront_end_developer</td>\n",
       "      <td>sr. product ui/ux designer sr. product ui/ux d...</td>\n",
       "    </tr>\n",
       "    <tr>\n",
       "      <th>76</th>\n",
       "      <td>systems_administrator\\nnetwork_administrator\\n...</td>\n",
       "      <td>sr. oracle database administrator sr. oracle &lt;...</td>\n",
       "    </tr>\n",
       "    <tr>\n",
       "      <th>77</th>\n",
       "      <td>database_administrator\\nnetwork_administrator\\...</td>\n",
       "      <td>database administrator &lt;span class=\"hl\"&gt;databa...</td>\n",
       "    </tr>\n",
       "    <tr>\n",
       "      <th>78</th>\n",
       "      <td>database_administrator</td>\n",
       "      <td>self-employed self-employed self-employed - se...</td>\n",
       "    </tr>\n",
       "  </tbody>\n",
       "</table>\n",
       "<p>77 rows × 2 columns</p>\n",
       "</div>"
      ],
      "text/plain": [
       "                                      Job_Designation  \\\n",
       "0                              database_administrator   \n",
       "1          database_administrator\\nsoftware_developer   \n",
       "2                              database_administrator   \n",
       "3                              database_administrator   \n",
       "4       database_administrator\\nsystems_administrator   \n",
       "..                                                ...   \n",
       "74                              systems_administrator   \n",
       "75            software_developer\\nfront_end_developer   \n",
       "76  systems_administrator\\nnetwork_administrator\\n...   \n",
       "77  database_administrator\\nnetwork_administrator\\...   \n",
       "78                             database_administrator   \n",
       "\n",
       "                                   Resume_Description  \n",
       "0   principal consultant principal consultant prin...  \n",
       "1   application/ui developer application/ui <span ...  \n",
       "2   front end ux web accessibility developer <span...  \n",
       "3   oracle database administrator oracle <span cla...  \n",
       "4   application dba application dba application db...  \n",
       "..                                                ...  \n",
       "74  freelance/sole proprietor freelance/sole propr...  \n",
       "75  sr. product ui/ux designer sr. product ui/ux d...  \n",
       "76  sr. oracle database administrator sr. oracle <...  \n",
       "77  database administrator <span class=\"hl\">databa...  \n",
       "78  self-employed self-employed self-employed - se...  \n",
       "\n",
       "[77 rows x 2 columns]"
      ]
     },
     "execution_count": 11,
     "metadata": {},
     "output_type": "execute_result"
    }
   ],
   "source": [
    "df.head(77)"
   ]
  },
  {
   "cell_type": "code",
   "execution_count": 12,
   "id": "d5690716",
   "metadata": {},
   "outputs": [
    {
     "name": "stderr",
     "output_type": "stream",
     "text": [
      "[nltk_data] Downloading package stopwords to /home/hygumm/nltk_data...\n",
      "[nltk_data]   Package stopwords is already up-to-date!\n"
     ]
    }
   ],
   "source": [
    "#Removal of stopwords\n",
    "import pandas as pd\n",
    "import nltk\n",
    "nltk.download('stopwords')\n",
    "from nltk.corpus import stopwords\n",
    "from nltk.tokenize import word_tokenize"
   ]
  },
  {
   "cell_type": "code",
   "execution_count": 13,
   "id": "899e2504",
   "metadata": {},
   "outputs": [],
   "source": [
    "#pip install nltk"
   ]
  },
  {
   "cell_type": "code",
   "execution_count": 14,
   "id": "2e16fb45",
   "metadata": {},
   "outputs": [
    {
     "data": {
      "text/html": [
       "<div>\n",
       "<style scoped>\n",
       "    .dataframe tbody tr th:only-of-type {\n",
       "        vertical-align: middle;\n",
       "    }\n",
       "\n",
       "    .dataframe tbody tr th {\n",
       "        vertical-align: top;\n",
       "    }\n",
       "\n",
       "    .dataframe thead th {\n",
       "        text-align: right;\n",
       "    }\n",
       "</style>\n",
       "<table border=\"1\" class=\"dataframe\">\n",
       "  <thead>\n",
       "    <tr style=\"text-align: right;\">\n",
       "      <th></th>\n",
       "      <th>Job_Designation</th>\n",
       "      <th>text</th>\n",
       "    </tr>\n",
       "  </thead>\n",
       "  <tbody>\n",
       "    <tr>\n",
       "      <th>0</th>\n",
       "      <td>database_administrator</td>\n",
       "      <td>principal consultant principal consultant prin...</td>\n",
       "    </tr>\n",
       "    <tr>\n",
       "      <th>1</th>\n",
       "      <td>database_administrator\\nsoftware_developer</td>\n",
       "      <td>application/ui developer application/ui &lt;span ...</td>\n",
       "    </tr>\n",
       "    <tr>\n",
       "      <th>2</th>\n",
       "      <td>database_administrator</td>\n",
       "      <td>front end ux web accessibility developer &lt;span...</td>\n",
       "    </tr>\n",
       "    <tr>\n",
       "      <th>3</th>\n",
       "      <td>database_administrator</td>\n",
       "      <td>oracle database administrator oracle &lt;span cla...</td>\n",
       "    </tr>\n",
       "    <tr>\n",
       "      <th>4</th>\n",
       "      <td>database_administrator\\nsystems_administrator</td>\n",
       "      <td>application dba application dba application db...</td>\n",
       "    </tr>\n",
       "  </tbody>\n",
       "</table>\n",
       "</div>"
      ],
      "text/plain": [
       "                                 Job_Designation  \\\n",
       "0                         database_administrator   \n",
       "1     database_administrator\\nsoftware_developer   \n",
       "2                         database_administrator   \n",
       "3                         database_administrator   \n",
       "4  database_administrator\\nsystems_administrator   \n",
       "\n",
       "                                                text  \n",
       "0  principal consultant principal consultant prin...  \n",
       "1  application/ui developer application/ui <span ...  \n",
       "2  front end ux web accessibility developer <span...  \n",
       "3  oracle database administrator oracle <span cla...  \n",
       "4  application dba application dba application db...  "
      ]
     },
     "execution_count": 14,
     "metadata": {},
     "output_type": "execute_result"
    }
   ],
   "source": [
    "df = df.rename(columns={'Resume_Description': 'text'})\n",
    "df.head()"
   ]
  },
  {
   "cell_type": "code",
   "execution_count": 145,
   "id": "45b8a645",
   "metadata": {},
   "outputs": [
    {
     "name": "stdout",
     "output_type": "stream",
     "text": [
      "                                         Job_Designation  \\\n",
      "0                                 database administrator   \n",
      "1              database administrator,software developer   \n",
      "2                                 database administrator   \n",
      "3                                 database administrator   \n",
      "4           database administrator,systems administrator   \n",
      "...                                                  ...   \n",
      "29061                   web developer,software developer   \n",
      "29062                   web developer,software developer   \n",
      "29063                   web developer,software developer   \n",
      "29064  web developer,software developer,front end dev...   \n",
      "29065        systems administrator,network administrator   \n",
      "\n",
      "                                                    text  \\\n",
      "0      principal consultant principal consultant prin...   \n",
      "1      application/ui developer application/ui develo...   \n",
      "2      front end ux web accessibility developer front...   \n",
      "3      oracle database administrator oracle database ...   \n",
      "4      application dba application dba application db...   \n",
      "...                                                  ...   \n",
      "29061  senior software developer senior software deve...   \n",
      "29062  network engineer network engineer network engi...   \n",
      "29063  senior systems engineer / information systems ...   \n",
      "29064  web developer web developer remote web develop...   \n",
      "29065  web developer web developer web developer - on...   \n",
      "\n",
      "                                                      JD  \n",
      "0       Job Title: Principal Consultant - Database an...  \n",
      "1       Job Title: Application/UI Developer\\n\\nLocati...  \n",
      "2       Job Title: Front End UX Web Accessibility Dev...  \n",
      "3       Job Title: Oracle Database Administrator\\n\\nJ...  \n",
      "4      Job Title: Application Database Administrator\\...  \n",
      "...                                                  ...  \n",
      "29061                                                NaN  \n",
      "29062                                                NaN  \n",
      "29063                                                NaN  \n",
      "29064                                                NaN  \n",
      "29065                                                NaN  \n",
      "\n",
      "[28745 rows x 3 columns]\n"
     ]
    }
   ],
   "source": [
    "#remove \\n and span in resume\n",
    "# Replace \\n and _ with a space\n",
    "df['Job_Designation'] = df['Job_Designation'].apply(lambda x: x.replace('\\n', ',').replace('_', ' '))\n",
    "\n",
    "print(df)"
   ]
  },
  {
   "cell_type": "code",
   "execution_count": 147,
   "id": "750d3dee",
   "metadata": {},
   "outputs": [],
   "source": [
    "# Define a regular expression to match \\x and HTML tags\n",
    "regex = re.compile(r'\\\\x\\w+|<.*?>')\n",
    "\n",
    "# Loop over the resume_description column and remove the unwanted characters and tags\n",
    "for i, row in df.iterrows():\n",
    "    df.at[i, 'text'] = regex.sub('', row['text'])"
   ]
  },
  {
   "cell_type": "code",
   "execution_count": 148,
   "id": "7b0da28f",
   "metadata": {},
   "outputs": [],
   "source": [
    "# Loop over the resume_description column and remove all occurrences of \\x0, \\x95, and \\xa0\n",
    "for i, row in df.iterrows():\n",
    "    cleaned_text = row['text'].replace('\\\\x0', '').replace('\\\\x95', '').replace('\\\\xa0', '').replace('\\\\x', '')\n",
    "    df.at[i, 'text'] = cleaned_text"
   ]
  },
  {
   "cell_type": "code",
   "execution_count": 149,
   "id": "4e3f9b60",
   "metadata": {},
   "outputs": [],
   "source": [
    "df['text'] = df['text'].str.replace(r'[\\x00-\\x1F\\x7F-\\x9F\\xA0\\x95]', '', regex=True)"
   ]
  },
  {
   "cell_type": "code",
   "execution_count": 150,
   "id": "1b1fa88d",
   "metadata": {},
   "outputs": [],
   "source": [
    "df['JD'] = pd.Series(dtype=str)"
   ]
  },
  {
   "cell_type": "code",
   "execution_count": 2,
   "id": "1fd6c8b8",
   "metadata": {},
   "outputs": [],
   "source": [
    "df=pd.read_csv(\"new_jd.csv\")"
   ]
  },
  {
   "cell_type": "code",
   "execution_count": 152,
   "id": "87911502",
   "metadata": {},
   "outputs": [
    {
     "data": {
      "text/plain": [
       "(29066, 1496)"
      ]
     },
     "execution_count": 152,
     "metadata": {},
     "output_type": "execute_result"
    }
   ],
   "source": [
    "df.shape"
   ]
  },
  {
   "cell_type": "code",
   "execution_count": 52,
   "id": "6db52bfd",
   "metadata": {
    "scrolled": true
   },
   "outputs": [
    {
     "data": {
      "text/plain": [
       "\"finisher/press op finisher/press op fostoria, oh hardworking, reliable, ability to learn quickly, great attention to detail, strong communication skills, and a variety of experience and education. graduating with a bachelors degree in psychology and corrections in 2019. authorized to work in the us for any employer work experience finisher/press op continental structural plastics - north baltimore, oh january 2019 to present finish parts, keep track of part #s & defects of parts, run press line, reflash parts shipping & receiving office clerk transglobal door - carey, oh august 2018 to january 2019 shipping/receiving-computer/office/customer service/data entry - make bills for truck loads, assist with phone calls, emails & shipper/drivers logs, schedule trucks/dispatch dispatch clerk findlay warehousing - findlay, oh june 2018 to august 2018 data entry, communications/transportation, make bills, run reports, various computer/phone duties production/inserter bridgestone apm company - upper sandusky, oh november 2017 to april 2018 dispatch clerk findlay warehousing - findlay, oh april 2017 to october 2017 data entry, communications/transportation, make bills, run reports, various computer/phone duties medical receptionist northwest ohio orthopedics and sports medicine - findlay, oh january 2016 to april 2017 check in/check out patients, run insurance eligibility, medical records, scheduling, collecting co-pays & medical payments, intakes, physical therapy, variety of office duties front end developer/website design lawyerfind network - findlay, oh august 2015 to january 2016 made websites for lawyers, specific to what each lawyer had wanted. mainly used html to create these websites. office assistant - warehouse cooper tire & rubber company - findlay, oh november 2013 to february 2015 data entry, dispatch/communications/transportation, make bills, run reports, various computer/phone duties production-quality/curing/assembly spherion october 2012 to september 2013 quality - run various tests on parts to ensure they met standards, assembly/curing lines - run machines, inspect parts, effectively and efficiently education ba in psychology/corrections tiffin university - tiffin, oh march 2016 to august 2019 certification in information technologies/internet design apollo career center - lima, oh 2008 to 2010 high school diploma in academics shawnee high school - lima, oh 2007 to 2010 skills shipping/receiving/quality/assembly/production/logistics/manufacturing (9 years), data entry/office/dispatch/telecommunications/customer service (10+ years), computer programs/softwares - microsoft office, adobe, sap, wms, gp, as400, html coding, etc (10+ years), warehouse associate, shipping receiving certifications/licenses information technologies - internet design present assessments basic computer skills  proficient january 2019 measures a candidate's ability to perform basic computer operations, navigate a windows os, and troubleshoot common computer problems. full results: https://share.indeedassessments.com/share_assignment/bcnwmzki192vorpg basic word processing proficiency with microsoft word  highly proficient january 2019 measures a candidate's knowledge of basic microsoft word techniques for word processing, including the use of tools to format or edit text. full results: https://share.indeedassessments.com/share_assignment/om70mk-sjotlzuzz indeed assessments provides skills tests that are not indicative of a license or certification, or continued development in any professional field. additional information very quick learner. adaptable to my surroundings, strong work ethic, hardworking, reliable, experienced, educated (1 year until bachelors is completed; continuing at least until i get my masters & possibly doctorate), outgoing & team player!\""
      ]
     },
     "execution_count": 52,
     "metadata": {},
     "output_type": "execute_result"
    }
   ],
   "source": [
    "df['text'][156]"
   ]
  },
  {
   "cell_type": "code",
   "execution_count": 153,
   "id": "aea9c0c2",
   "metadata": {
    "scrolled": true
   },
   "outputs": [],
   "source": [
    "df=df[['Job_Designation','text','JD']]"
   ]
  },
  {
   "cell_type": "code",
   "execution_count": 154,
   "id": "c09780b9",
   "metadata": {
    "scrolled": true
   },
   "outputs": [
    {
     "data": {
      "text/html": [
       "<div>\n",
       "<style scoped>\n",
       "    .dataframe tbody tr th:only-of-type {\n",
       "        vertical-align: middle;\n",
       "    }\n",
       "\n",
       "    .dataframe tbody tr th {\n",
       "        vertical-align: top;\n",
       "    }\n",
       "\n",
       "    .dataframe thead th {\n",
       "        text-align: right;\n",
       "    }\n",
       "</style>\n",
       "<table border=\"1\" class=\"dataframe\">\n",
       "  <thead>\n",
       "    <tr style=\"text-align: right;\">\n",
       "      <th></th>\n",
       "      <th>Job_Designation</th>\n",
       "      <th>text</th>\n",
       "      <th>JD</th>\n",
       "    </tr>\n",
       "  </thead>\n",
       "  <tbody>\n",
       "    <tr>\n",
       "      <th>0</th>\n",
       "      <td>database administrator</td>\n",
       "      <td>principal consultant principal consultant prin...</td>\n",
       "      <td>Job Title: Principal Consultant - Database an...</td>\n",
       "    </tr>\n",
       "    <tr>\n",
       "      <th>1</th>\n",
       "      <td>database administrator,software developer</td>\n",
       "      <td>application/ui developer application/ui develo...</td>\n",
       "      <td>Job Title: Application/UI Developer\\n\\nLocati...</td>\n",
       "    </tr>\n",
       "    <tr>\n",
       "      <th>2</th>\n",
       "      <td>database administrator</td>\n",
       "      <td>front end ux web accessibility developer front...</td>\n",
       "      <td>Job Title: Front End UX Web Accessibility Dev...</td>\n",
       "    </tr>\n",
       "    <tr>\n",
       "      <th>3</th>\n",
       "      <td>database administrator</td>\n",
       "      <td>oracle database administrator oracle database ...</td>\n",
       "      <td>Job Title: Oracle Database Administrator\\n\\nJ...</td>\n",
       "    </tr>\n",
       "    <tr>\n",
       "      <th>4</th>\n",
       "      <td>database administrator,systems administrator</td>\n",
       "      <td>application dba application dba application db...</td>\n",
       "      <td>Job Title: Application Database Administrator\\...</td>\n",
       "    </tr>\n",
       "    <tr>\n",
       "      <th>...</th>\n",
       "      <td>...</td>\n",
       "      <td>...</td>\n",
       "      <td>...</td>\n",
       "    </tr>\n",
       "    <tr>\n",
       "      <th>70</th>\n",
       "      <td>database administrator</td>\n",
       "      <td>data analyst data analyst data analyst - thoms...</td>\n",
       "      <td>Job Title: Database Administrator/Developer\\n...</td>\n",
       "    </tr>\n",
       "    <tr>\n",
       "      <th>71</th>\n",
       "      <td>database administrator</td>\n",
       "      <td>semi-accountant semi-accountant semi-accountan...</td>\n",
       "      <td>Job Title: Semi-Accountant\\n\\nWe are seeking ...</td>\n",
       "    </tr>\n",
       "    <tr>\n",
       "      <th>72</th>\n",
       "      <td>systems administrator</td>\n",
       "      <td>freelance/sole proprietor freelance/sole propr...</td>\n",
       "      <td>Job Title: Freelance/Sole Proprietor Develope...</td>\n",
       "    </tr>\n",
       "    <tr>\n",
       "      <th>73</th>\n",
       "      <td>software developer,front end developer</td>\n",
       "      <td>sr. product ui/ux designer sr. product ui/ux d...</td>\n",
       "      <td>Job Title: Senior Product UI/UX Designer\\n\\nL...</td>\n",
       "    </tr>\n",
       "    <tr>\n",
       "      <th>74</th>\n",
       "      <td>systems administrator,network administrator,pr...</td>\n",
       "      <td>sr. oracle database administrator sr. oracle d...</td>\n",
       "      <td>Job Description: Sr. Oracle Database Administ...</td>\n",
       "    </tr>\n",
       "  </tbody>\n",
       "</table>\n",
       "<p>75 rows × 3 columns</p>\n",
       "</div>"
      ],
      "text/plain": [
       "                                      Job_Designation  \\\n",
       "0                              database administrator   \n",
       "1           database administrator,software developer   \n",
       "2                              database administrator   \n",
       "3                              database administrator   \n",
       "4        database administrator,systems administrator   \n",
       "..                                                ...   \n",
       "70                             database administrator   \n",
       "71                             database administrator   \n",
       "72                              systems administrator   \n",
       "73             software developer,front end developer   \n",
       "74  systems administrator,network administrator,pr...   \n",
       "\n",
       "                                                 text  \\\n",
       "0   principal consultant principal consultant prin...   \n",
       "1   application/ui developer application/ui develo...   \n",
       "2   front end ux web accessibility developer front...   \n",
       "3   oracle database administrator oracle database ...   \n",
       "4   application dba application dba application db...   \n",
       "..                                                ...   \n",
       "70  data analyst data analyst data analyst - thoms...   \n",
       "71  semi-accountant semi-accountant semi-accountan...   \n",
       "72  freelance/sole proprietor freelance/sole propr...   \n",
       "73  sr. product ui/ux designer sr. product ui/ux d...   \n",
       "74  sr. oracle database administrator sr. oracle d...   \n",
       "\n",
       "                                                   JD  \n",
       "0    Job Title: Principal Consultant - Database an...  \n",
       "1    Job Title: Application/UI Developer\\n\\nLocati...  \n",
       "2    Job Title: Front End UX Web Accessibility Dev...  \n",
       "3    Job Title: Oracle Database Administrator\\n\\nJ...  \n",
       "4   Job Title: Application Database Administrator\\...  \n",
       "..                                                ...  \n",
       "70   Job Title: Database Administrator/Developer\\n...  \n",
       "71   Job Title: Semi-Accountant\\n\\nWe are seeking ...  \n",
       "72   Job Title: Freelance/Sole Proprietor Develope...  \n",
       "73   Job Title: Senior Product UI/UX Designer\\n\\nL...  \n",
       "74   Job Description: Sr. Oracle Database Administ...  \n",
       "\n",
       "[75 rows x 3 columns]"
      ]
     },
     "execution_count": 154,
     "metadata": {},
     "output_type": "execute_result"
    }
   ],
   "source": [
    "df.head(75)"
   ]
  },
  {
   "cell_type": "code",
   "execution_count": 113,
   "id": "0bca8b2b",
   "metadata": {},
   "outputs": [
    {
     "data": {
      "text/plain": [
       "(29066, 3)"
      ]
     },
     "execution_count": 113,
     "metadata": {},
     "output_type": "execute_result"
    }
   ],
   "source": [
    "df.shape"
   ]
  },
  {
   "cell_type": "code",
   "execution_count": 114,
   "id": "fc6e3a93",
   "metadata": {},
   "outputs": [],
   "source": [
    "df.at[156, 'JD']=\"\"\"Job Title: Budget & Planning Analyst\n",
    "\n",
    "Company: TiVo Corporation\n",
    "\n",
    "Location: Durham, NC\n",
    "\n",
    "We are seeking a highly motivated Budget & Planning Analyst to join our team at TiVo Corporation. The ideal candidate will have experience in creating and updating forecasts and models related to operational and financial targets, as well as designing dashboards for tracking department budgets for business-as-usual and ad-hoc projects. The Budget & Planning Analyst will be responsible for performing regular variance analyses of expenses versus budget, evaluating pricing structures to ensure alignment with company objectives, and creating operational efficiency plans for incoming projects from new and existing clients.\n",
    "\n",
    "Responsibilities:\n",
    "\n",
    "Create and update forecasts and models related to operational and financial targets\n",
    "Design dashboards for tracking department budgets for business-as-usual and ad-hoc projects\n",
    "Perform regular variance analyses of expenses versus budget\n",
    "Evaluate pricing structures to ensure alignment with company objectives\n",
    "Create operational efficiency plans for incoming projects from new and existing clients\n",
    "Analyze current operational processes to initiate improvements that assist the executive decision-making process, reduce operational expenses, and allow for higher volume production\n",
    "Incorporate client delivery schedules and operational changes into forecasts and models\n",
    "Maintain and enhance automation systems, product/service costing models, and margin management tools/systems to effectively monitor and manage revenue/expenses\n",
    "Create a mapping system and content processing system to optimize operational efficiency\n",
    "Process weekly Jira reports for various boards/projects to manage projects and internal resources\n",
    "Process vendor invoices and investigate discrepancies as necessary\n",
    "Requirements:\n",
    "\n",
    "Bachelor's degree in Business Administration or related field\n",
    "3+ years of experience as a Budget & Planning Analyst or similar role\n",
    "Strong analytical and problem-solving skills\n",
    "Excellent attention to detail and organizational skills\n",
    "Experience with Microsoft Office (Excel, Word, PowerPoint, Outlook, Visio, Access), Confluence, Jira, Oracle, Adobe Acrobat DC Pro, Google Suite (Drive, Sheets, Docs, Calendar), CRM software, Dropbox, Wrike (project management software), Smartsheet (Gantt chart), Hootsuite, social media, and applicant tracking systems.\n",
    "Strong communication and interpersonal skills, able to work well with cross-functional teams\n",
    "Ability to prioritize and manage multiple tasks effectively\n",
    "If you are a self-starter who enjoys working in a fast-paced environment and has a passion for financial analysis and forecasting, we encourage you to apply for this exciting opportunity at TiVo Corporation.\n",
    "\n",
    "\"\"\""
   ]
  },
  {
   "cell_type": "code",
   "execution_count": 46,
   "id": "6280f5db",
   "metadata": {},
   "outputs": [],
   "source": [
    "#df.to_csv('my_data.csv', index=False)"
   ]
  },
  {
   "cell_type": "code",
   "execution_count": 155,
   "id": "926e2b93",
   "metadata": {},
   "outputs": [
    {
     "name": "stdout",
     "output_type": "stream",
     "text": [
      "Resume with max tokens:\n",
      "c#, vb.net, sql server & erwin api developer c#, vb.net, sql server &amp; erwin api developer c#, vb.net, sql server & erwin api developer - jp morgan chase west chester, pa authorized to work in the us for any employer work experience c#, vb.net, sql server & erwin api developer jp morgan chase - wilmington, de march 2017 to present took ownership of a c#, vb.net, winforms application, that uses the com erwin api to read erwin models into a sql server 2012 database. the application produces various reports that standardize the workflow, analysis and reporting of erwin model status across database development teams.  produced many new sql, c# & vb.net, winforms & console application features:  subversion interface for users to unzip & load erwin models from svn uris.  loaded new data from a new tree node in the erwin api's data store.  moved sql to stored procedures to boost performance.  changed and created new excel automation.  mitigated com object cleanup problems, to reduce memory leaks.  consumed ab initio web services to transform xml to csv & databases.  designed the sql server database and wrote the c# to parse oracle view sql into the database tables, used by downstream folks for lineage analysis.  wrote complex sql server stored procedures that accept ado.net datatable arguments via user-defined database table types: c#, vb.net, sql server & ssrs developer weyandt, llc august 2016 to january 2017  created vs2015 with devexpress, vs2013 ssrs and ssms 2016 for sql server azure 2012 software development environments.  revised an ssrs report and associated sql.  revised winforms to layer in \"facility id\" handling.  created a new mdi winforms project with user controls.  create a new .net console application to extract, transform and load (etl) json file data into legacy and new sql server tables. ? created new .net middleware and sql server database tables, indexes, foreign keys and stored procedures to persist the new json data. ? coded blocks of stored procedure calls & sqlbulkcopy database work in .net transactions. ? figured out how to pass a long .net datatable to a stored procedure with a sql server user defined table type parameter. ? created the .net template class hierarchy for the json structures so that each json file can be de-serialized into the class hierarchy via one vb.net statement.  created new json schema files and .net code to validate the json data. c#, sql server developer weyandt, llc october 2016 to december 2016 120 hours total)  i created a c#, \"csv -> sqlserver transformer\", with a wcf service library that can service windows or web forms.  let's say a person, can \"design/specify a data warehouse\", by simply exporting a group of \"views as csv\", into one file folder:  big picture: my automation automatically creates the data warehouse & transforms and transports the data from the csv folder shown above.  details: my automation can allow a user to create and point to database schemas where the csv data will be transformed and transported.  my \"schema-table focused\" stored procedures do all of the database work, except for the dynamic create table sql building, easier to debug in c#.  my automation loops thru the csv folder, with csv files as shown above to  compress all (e.g, timedetail files shown above) data into one database table  dump each file's csv data into a dynamically created, matching, temporary, all varchar, temp table in sql server  automatically scan all the data rows to automatically determine the non-varchar columns, i.e. bit, int, long, float, date, etc.  dynamically build & execute create table sql to create each typed database table like this:   dynamically build and execute insert into select statements to transform and transport the csv data into the typed tables with try_cast columns like this: c#, intersystems cache database & ssrs developer radius global solutions - ambler, pa april 2016 to june 2016 created two, new ssrs reports and associated sql that 1. odbc connect to intersystems cache databases used by artiva crm. with multiple parameters via hardwired or database driven values. 2. deliver default and multi-selectable, visible or not, report columns:  created a new c# console application framework with reusable classes and interfaces that performs four major functions: 1. creates an html formatted smtp email report from a combination of windows folder disk statistics, and a stats file downloaded from linux. 2. creates an email report from an ado.net datatable converted to csv and attached to the email. 3. reads an excel xlsx file into ado.net datatables converted to multiple csvs attached to the email. 4. downloads 3 large zipped files from linux, unzips the files, parses files into multiple files for different record types and chunks large files into smaller files based on configurable file sizes and record counts, and uploads the small files to linux. sql server, oracle, vertica, python developer highpoint solutions - east norriton, pa july 2015 to january 2016 i re-engineered the highpoint solutions databurst data warehousing software product into python to fit into teva pharmaceutical's vertica database environment.  from scratch, i wrote all of the python to meet the vertica needs.  copied ddl & data to oracle & sql server as a python product line for future vertica, oracle, sql server databurst clients on linux/windows.  designed, refactored & created new python & sql components: ? python for cleaning raw tables. ? python for integrating cleansed tables. ? python workflow engine for running sql blocks, python blocks and parent/child workflow blocks. ? created a convention of configuration tables for reuse in any odbc compliant, target, client database.  the python uses sql templates and dynamically assembles sql, then executes the sql to transform data. ? raw data -> cleansed data -> integration data -> datamart data  i wrote a lot of python: ? python (pyodbc) sql cursors and transactions. ? python job and sql statement logging with performance analytics. ? python try-catch exception handling with emailed stack traces. ? python case-insensitive linux file handling. ? python introspection to allow table driven python method dispatch and execution.  as a team leader, i drove the efforts of qa & another developer/dba. education bsc in engineering rutgers college of engineering 1980 skills database (1 year), sql (1 year), ms sql server (1 year), sql server (1 year), c# (1 year) additional information  software tools: ? python tools for microsoft visual studio 2010 (pvts) to craft python 3.4 and to run code on windows and to debug on linux. ? dbvisualizer, oracle sql developer & sql server management studio to craft vertica, oracle & sql server database objects. ? winscp to move python from my windows pc to target amazon web service (aws) linux servers. ? putty to run python in a linux window.  pfizer - c#, webforms, ajax, javascript, asp.net, ado.net, oracle 11 developer contractor, collegeville, pa, 5/2015 - 7/2015  pfizer business operations teams use a mission critical, products dossier web application hooked to an oracle database that manages all product portfolio hierarchies, in development or in commercial release, across all global markets.  i delivered new & changed web pages, user controls, classes, data models, oracle stored procedures, treeview controls, datagrids, and complex linq search filters to apply assesments to product hierarchies, across market hierarchies.  i delivered software scaffolding with oracle, c#, ado.net, linq for entities, ajax, javascript and team foundation server (tfs).  i delivered strategy, specifications & software development, collaborative demos, documentation, and communications for local and offshore teams.  bracket global - c#, vb.net, winforms, webforms, javascript, asp.net, ado.net, sql server 2008 developer contractor, wayne, pa, 11/2014 - 3/2015  bracket global delivers windows based and web based software solutions and services for pharmaceutical clinical trials customers. www.bracketglobal.com   created, repaired & re-factored vb.net, c# and sql in ui, middleware & data tiers  refactored, large file, encryption-decryption buffering.  added and changed asp.net and javascript functionality, for example: ? wrote a custom behavior.selectionclientevents pointing to new javascript that forces an infragistics.webhierarchicaldatagrid.rowselectionchanged server-side, postback, only if user clicked on the top level zero hierarchy on datagrid. ? repaired old & created new aspx & ascx .net & infragistics components.  reorganized dozens of try catch blocks to correct exception bubbling to logs and uis.  created and modified sql server tables, relationships & stored procedures.  wrote sql scripts to poke production data, in cases where ui screens are not available.  wrote self-aware, \"bulletproof\" sql scripts to upgrade metadata table data, columns & constraints that drive different functions per client, user, role, ui, version, etc.  backed up and restored sql server databases.  tools  visual studio 2010  sql server 2008  sql server profiler  a visual studio .net \"lite\" sql profiler ? with vb.net source code & executable ? for test pcs with no sql server profiler tools.  team foundation server (tfs) ? to link user stories and bugs to source code changes ? to review histories of tfs changesets  fogbugz  training & documentation  completed 85 master control training modules related to pharmaceutical clinical trials processes, system development and software development  conformed to customer standards for documenting issue resolution in tfs & fogbugz.  akcelerant - c#, vb.net, javascript, asp.net, mvc 4.5, sql server 2012, ssrs, developer contractor, malvern, pa, 9/2014 - 10/2014  akcelerant provides a best-of-breed, lending & collections web site solution to over 500 institutions & credit unions in asp.net & sql server 2012. www.akcelerant.com  i leveraged visual studio 2013, sql server 2012, ssrs, accurev, finalbuilder, and homegrown tools to feed sql scripts, web pages, middleware, metadata, and ssrs reports, into \"continuous integration streams\" for multiple versions of the akcelerant product lines.  delivered an ssrs report & stored procedure to deliver an ssrs bar chart report with date range, daily/weekly/monthly parameters and a multi-selectable checkbox parameter like this:  procedure [duhschema].[duhstoredproc] @periodtype varchar(10) = 'daily' --'daily' or 'weekly' or 'monthly' ,@startdate as date ,@enddate as date --strip time from start date set @mystartdate = dateadd(dd, datediff(dd, 0, @startdate), 0) --strip time from end date & set to tomorrow at 12am set @myenddate = dateadd(dd, datediff(dd, 0, @enddate), 0) set @myenddate = dateadd(dd, 1, @myenddate)  cloned & re-factored a .net nuke asp.net.aspx page to  upload files into 2gb varbinary(max) fields in a new database table that i scripted.  javascript validate for the 2gb file size limit.  authored feature design documents and scheduled and led qa feature handoff meetings.  used ontime & replicon for  feature status, collaboration, workflow, & time reporting  defect status, resolution, collaboration, workflow, & time reporting  hr-payroll reporting  dow chemical - c# 4.5, sql server 2008, json, winforms developer, newark, de, 4/2014 - 6/2014  dow chemical engineers use a new c#, winforms application to model materials properties for the manufacture of semiconductors.  fixed bugs & produced new functions, new nevron and microsoft charts, & new stored procedures in visual studio 2012 and sql server 2012 management studio.   collaborated with other software developers via team foundation server (tfs) ? authored and resolved user stories ? merged software changes into main and local software stores  deployed multi-selectable listboxes on winforms that ? display results statistics in the chart control & datagridviews ? pass xml to ado.net stored procs to flexibly search \"tblxxx \" exec storedproc ' 123456 ' -- storedproc declare @tempidtable table(id int) -- if @parameteridlistxml is null --xml is null, so get all ids from tblxxx into @tempidtable insert into @tempidtable select distinct id from [dbo].tblxxx else --xml not null, user multi-selected id subset, so get xml ids into @tempidtable insert into @tempidtable(id) select row.value('(id)[1]','varchar(max)') from @parameteridlistxml.nodes('documentelement/table0') as tabx(row) end select * from tblxxx where id in (select id from @tempidtable)   used linq to objects to parse parent-child datatables into hierarchical, classes  deserialized json data files into hierarchical, json tagged classes  displayed the scientific, data hierarchies in a treeview.  revised exception handling to automatically email screenshots to development team.  specialty rx - c# 3.0, sql server 2012, crystal reports, active directory, winforms developer, roselle, nj, 6/2013 - 3/2014  specialty rx pharmacists fulfill prescriptions and log the workflow in vendor software, but the vendor software does not meet specialty rx's partial fulfillment needs. for example, if patient needs 30 tablets, and we only have 12 tablets, we send the 12 tablets now, but new software needs to log the 12 tablets & manage the eventual fulfillment of the other 18 tablets.  the software manager and i worked together at davidsohn in 2007, so he called me again in 2013. we collaborated on and documented his software specifications and i produced the new c# winforms solution and sql server 2012 tables and stored procedures.   built the winforms in a multiple document interface (mdi) ? with custom logic to allow just one instance of each child form type ? that controls full, read only, or no access privileges per child form * user and group names are managed in active directory * forms and access levels are stored in sql server 2012 tables  built basic lists and insert-update functions with ado.net in winforms datagridviews with right-clickable rows that persist partial & partial details data in sql server 2012 tables via stored procedures.   built crystal reports file to a strongly typed, ado.net dataset with related tables from my sql server stored procedure with an xml list parameter to produce shipping labels & prescription labels that look like what you see from your own pharmacy.   created a class inheriting from combobox to create a smarter, intellisense(tm) combobox so that user's keystrokes are limited to combobox members.  merck - c#, vb.net, asp.net 3.5, web services, ajax, javascript, jquery, oracle 11g developer, kenilworth, nj, 6/2012 - 6/2013   performed software development tasks & problem solving on a legacy asp.net web site.  enhanced c#, vb.net, web services, javascript & oracle stored procedures & packages.  the assignment was related to my earlier work at merck from august 2009 - august 2011.  natixis investment bank - c#, asp.net 4.0, iis 7.0 sharepoint 2007, winforms, webforms, architect developer, new york, ny, 8/2011 - 6/2012   tools: visual studio 2010, sql server 2008, oracle 10g, subversion, sharepoint designer  created the identity delta tracker, c#, console application & oracle database. ? reads an adam identity management database. ? inserts and updates oracle employee records with different organizational and location attributes. ? emails results and .net software error stack trace info for pinpoint error tracing. ? worked with the control-m team to schedule the console once a week.  created the compliance11 delta tracker, c#, console application & oracle database. ? sql selects the identity delta tracker database for employees pertaining to compliance. ? inserts and updates oracle employee records with different organizational and location attributes, to mirror the vendor database. ? performs c# automation to create, pgp encrypt & ftp transport results to the external compliance11 vendor. ? emails results and .net software error stack trace info for pinpoint error tracing. ? worked with the control-m team to schedule the console once a week.  created the compliance 11 watch list processor, c#, console application ? reads an excel 2003 file into a .net datatable. ? performs c# automation to transform, create, pgp encrypt & ftp transport results files to the external compliance11 vendor. ? emails results and .net software error stack trace info for pinpoint error tracing. ? worked with the control-m team to schedule the console once a week.  inherited the compliance risk assessment tool, c#, winforms application. ? persists state in a sql server 2008 database. ? took over the project on day 1 of first production release. ? emails .net software error stack trace info for pinpoint error tracing. ? made extensive winforms enhancements, complex data editing and stored procedure additions. ? rekeyed the database and stored procedures for multiple years of data.  created the custom web utilities, c#, iis 7.0 web site and redirection sites ? compliance11 single-sign-on (sso) * user browses to http://compliance11, redirection site routes to web page.  or user clicks vendor email url with query string info. * windows authenticated user is translated to email address vendor key. * a url is constructed with query string info, then is pgp encrypted. * page redirects to encrypted url to redirect, auto login and place user at the (emailed) external compliance11 vendor, sub web page. ? intellum single-sign-on (sso) * user browses to http://intellum, redirection site routes to web page. * windows authenticated user is translated to keycode vendor key. * a url is constructed with query string info, and posted to vendor. * post results are used to create url to redirect & auto login user into external intellum vendor site. ? building access resolution processor * user loads 7 different excel 2003 excel files related to employees in buildings and floors into a network share data source folder. * files are consolidated into one csv file so employee errors and omissions can be easily identified & eliminated from building & floors systems. ? emails results and .net software error stack trace info for pinpoint error tracing.  created the sde timesheets, c#, iis 7.0 web site ? sde is an emc asset management tool with its own sql server 2005 database. ? created new sql server views, functions, stored procedures, and cte sql. ? create new iis 7.0 webforms project with user controls, datagridviews and objectdatasource binding to allow user to persist days worked on a monthly basis. ? managers and cio office users can do the timesheets for their groups. ? emails results and .net software error stack trace info for pinpoint error tracing.  software support of legacy systems ? performed content updates on sharepoint 2007 pages using sharepoint designer, document lists, navigation lists and web part html content editors. ? ran unix scripts in citrix windows. ? performed basic ftp file management on vendor folders.  merck - c#, asp.net 3.5, ajax, reporting services, sharepoint 2007/2010, winforms, webforms, architect developer, rahway, nj, 8/2009 - 8/2011   worked with stakeholders and lab workers to specify, develop & deploy the next generation of software solutions on moss 2007/2010 sharepoint portals, clickonce winforms, asp.net webforms, oracle 11g and sql server 2005 platforms.   devised oracle & sql server common table expression (cte) advanced sql queries for sql server reporting services (ssrs) reports & deployed the reports as web parts to the sharepoint portal to show \"weekly sums/counts/averages for the latest n weeks\". reused the same approach that i posted back in 2008 on my http://'rodney blog'   authored & deployed clickonce winforms c# 3.0/vb.net applications that fetch & persist data in a half dozen merck oracle and sql server databases to optimize the workflow for pharmaceuticals tubes, plates, barcode labels, lab workers, researchers, robots and the merck data analyzer api. wrote oracle 11g and sql server 2005 stored procedures accessed via the .net enterprise library. my windows and web solutions send workflow emails to research teams and send software exception emails with source code line numbers to the support team.   wrote software roadmap documents & proposals to expose hidden functionality, clarify database relationships, show system data flows & map out earlier software solutions.   enhanced & deployed webforms & excel automation on the gcs.merck.com intranet.   created a new. ajax, asp.net 3.5 intranet web site for ordering compounds and other jobs that connects to my earlier order fulfillment solution in the lab. the users particularly like the ajax collapsiblepanels for organizing the web usercontrols on webpages.   research: built & deployed c# visual studio projects to deliver sharepoint features, pages & web parts on a hyper-v vm wss 3.0 sharepoint 2007 team site.   tools: visual studio 2008, sql server 2008, oracle 11g, visual source safe 2005  united nations - c#, excel, msaccess, winforms developer, ny, ny, 6/2009-8/2009   treasury department gave me an excel file that needed to become an msaccess database.  designed normalized database table structures.  coded and reused some c# mdi winforms and components that: ? run processes in separate threads * thread can update the winform controls * user can start other threads or kill the program cleanly ? insert the data into the hierarchy of database tables. ? view the database hierarchy in datagridviews bound to bindingsources bound to datasets with datatables with datarelations.  first new york securities - c#, c++, winforms, developer, ny, ny, 3/2009 - 5/2009   designed & coded an extendable, c#, web scraper console application that automatically downloads an excel file from a url, so that no daily, human, web session is needed.   studied the orc cameron vendor fix protocol server. downloaded their c++ source code sample application that streams fix messages. at the time, vendor did not offer a c# .net streaming version, so i had to figure out a way to pass a c# delegate to the c++ code so that the c++ vendor code could run c# client applications to store portions of the stream into sql server tables.   re-factored four legacy c# winforms clients that ? pass a delegate to my new c# managed financial exchange (fix) protocol server. ? a delegate is a pointer to client logic that * parses each fix message; trader, account, price, quantity, etc. * updates a sql server 2005 database via ado.net.  authored a new c# managed fix protocol server that ? encapsulates the platform invoke (p/invoke) marshalling of unmanaged c++ data ? passes client delegate through to my new c++ unmanaged fix protocol server.  authored a new c++ unmanaged fix protocol server that ? reuses the orc cameron vendor's c++ code for socket & message streaming. ? runs the client delegate callback logic to process each streamed message.  authored a detailed architectural whitepaper on the 3 classes of components above.  links: fix messaging protocol, orc cameron vendor, first new york securities,  tools: microsoft visual studio 2008, sql server 2005, visual source safe 2005  video bank - c#, asp.net, sql developer/project mgr, northvale, nj, 11/08 - 3/09   inherited source code for asp.net, c#, web sites, web services, window services, oracle 10g databases, sql server 2005 databases & msi installers.  purchased workstations & built vmware virtual machine (vm) development environments for visual studio 2008, visual source safe 2005, oracle 10g, sql server 2005.  recruited, interviewed & hired four c#, sharepoint, asp.net, sql developers.  directed developer task assignments & software change management.  montpelier re - c#, asp.net, sql, office xml developer, montclair, nj, 7/08 - 10/08   joined a re-insurance web site development team: http://www.montpelierre.bm  installed vm development environment with windows server 2003, sql server 2005, visual studio 2005 & source gear vault (similar to visual source safe).  authored a white paper and prototyped a website that produces microsoft word 2007 documents via microsoft office open xml automation.  produced javascript, css, c#, asp.net & sql server 2005 components for asp.net 2.0 reinsurance web sites.  produced sql server procedures, views, triggers, excel pivot tables & charts  coded sql server scripts for reference table truncation and parent-child table scrubbing.  maintech - c#, asp.net, sql server, developer, cranford, nj, 4/08 - 6/08   implemented sql server caching notification on www.emaintech.com ? each web session reads database data from a shared memory cache. * radically improved site performance and user satisfaction. * minimized large, expensive, duplicate database data i/o. * the cache is refreshed only when the database data changes. * authored a white paper on the solution for the other developers. ? added cached data access & excel export to more than 60 web pages. ? authored c# classes, sql server stored procedures and triggers. ? optimized, enhanced and deployed uis, middleware and data tier.  tools ? microsoft visual studio 2003, asp.net 1.1, c#, sql server 2000 ? visual source safe, intuit quickbase, visio  johnson & johnson - .net, c#, oracle, aqualogic plumtree web portal developer, morris plains, nj, 8/07 - 4/08   built asp.net 2.0, oracle and corda objects for aqualogic/plumtree web portals. ? developed 20 portlets/webparts that communicate with each other. * the navigational/tactical transmitter portlet \"sends\" session variables to the graphical/tabular receiver portlets.  ? produced 14 corda graphs on asp.net 2.0 portlet pages * with generic, pop-up enlargement, print, e-mail & excel export:  ? developed 12 asp.net 2.0 search/sort/insert/update portlets:  ? re-factored a c# web custom control to produce gantt charts daily/weekly/monthly with cost summaries & cost details:  * coded oracle 9i packages, stored procedures & functions via sql navigator 5.5. ? authored the sdlc design document for the project  tools ? microsoft visual studio 2005, asp.net, c#, vb.net ? oracle 9i, sql navigator 5.5, ? aqualogic/plumtree portal, corda 6.0, microsoft visio, word, excel  it solutions inc. - .net, sql application architect developer, 7/06 - 8/07   cit group - .net 2.0, 1.1 c#, vb.net, vba, oracle, sql server, loan iq api application architect, asp.net web site, winforms developer, livingston, nj ? tools * sharepoint 2003, microsoft visual studio 2003, 2005 * c#, vb.net, excel, vba, xsl tester * .net enterprise library (daab) * sql server 2005, 2000, oracle 10g, oracle sql developer * microsoft word, excel, visio, netmeeting, livemeeting ? created, configured & administered a sharepoint site * issues list workflow, documents, discussion group, faq, etc. ? produced a c#, html parser * converted a large number of html files to xml to database tables ? produced a .net 2.0, c#, winforms, csv transformer * produced winforms, business logic, xml file io, sockets, logging, tiers & classes to:  read, validate & write data via strongly-typed datasets  show data and validation errors in datagridviews  allow config updates to a shared xml file  transform one csv format to another  log & feedback results to ui users * documented the test plans & user guide * produced the setup & deployment package ? produced a .net 2.0, c#, winforms, loan iq, excel, conversion utility * produced winforms, business logic, xml messaging, file io, sockets, logging, tiers & classes to:  read & validate excel data into a strongly-typed dataset  construct loan iq api messages  transmit messages over sockets to the loan iq api server  log & feedback results to ui users * documented the test plans & user guide * produced the setup & deployment package ? produced a .net 2.0, c#, cit - loan iq - markit alliance web site * produced webforms. master page, user controls, console application, business logic, logging, tiers, classes, oracle tables & stored procedures to:  read xml from markit website into a strongly-typed dataset  read & update loan iq oracle 10g tables via .net enterprise library  produce reports & logs with web forms & smtp e-mail * produced the setup & deployment package ? produced enhancements to .net 1.1 cfiboss insurance mgmt web site * produced webforms. xslt, user controls, business logic, logging, tiers, classes, sql server 2000 tables, views & stored procedures & functions to expand the application to provide  db tables & ui functions segregated by business units  a new tickler ui & once-a-day smtp mail job  a new, generic, user control ui that converts generic dataset properties into flexible ui filters and \"where clauses\" for standardized, ad hoc reporting. ? created an excel add-in that contains vba to auto destruct 2nd and phantom excel process instances * used sql server tools for analysis and tuning of databases.  show execution plan - can show actual or estimated execution plan of sql server's query optimizer.  show server trace - useful for analyzing query performance, and when comparing the performance of one variation of a query against another.  show client statistics - provides application profile, network, and time statistics of transact-sql  sql analyzer manage index tool - helps you to experiment with your table's indexes as you are fine-tuning your queries.  manage statistics tool - allows you to modify how sql server automatically creates and maintains statistics. you can experiment with different sets of statistics and see how it affects the query optimizer's execution plans  index tuning wizard - can be used to recommend optimal indexes for an entire database or for specific queries.  profiler - allows you to capture the communications between your application and sql server   ernst & young - sql server 2005, ssrs 2005 developer, , lyndhurst, nj ? produced sql & reporting services templates for e&y's new gis tool.  davidsohn - sybase 12, vb6, crystal developer, wall street, ny 12/06 - 2/07 (80 hrs total - moonlighting, \"its not work, its fun , concurrent to job above)  produced 3 sets of sybase tables, stored procedures, views and reports that roll up securities, accounts and products data. tools: sybase central, sql advantage & crystal reports 8.5.  researched & integrated a new pdf concatenation function into the legacy vb6 report engine via abcpdf from www.websupergoo.com.  adp - .net 1.1, c#, sql server 2000, application architect developer, roseland, nj 1/05 - 6/06 (2nd engagement)  designed & coded an asp.net & winforms configuration tool  allows deployment people to edit system configuration settings.  allows developers to intellisense(tm) to settings in the component source code  across versions, instances, components & clients. designed hierarchies of versions, classes & xsd to nest the settings storage. leveraged infragistics netadvantage controls for a site navigation menu.  architected, designed & coded an asp.net workflow web site that people use to manage software requirements changes, submissions, rejections & approvals.  designed new sql server 2000 database, tables & stored procedures ? for new audit trail functionality ? to import legacy ms access data  produced variable site navigation via windows authentication on active directory groups/roles.  leveraged infragistics asp.net controls for a site navigation menu.  re-factored an asp.net distributed print facility administration web site.  produced variable site navigation via forms authentication on web.config users & roles.  leveraged infragistics asp.net controls for date ui entry & a site navigation menu.  added client-side scripting to server-side controls.  migrated reports away from sql server 2000 reporting services.  delivered data to web site via ? remoting calls to windows services on other machines. ? web services tier linked to sql server 2000.  architected, designed & coded an asp.net web site to replace a gupta centura windows application that displays payroll data from ibm mainframes via sna client.  set breakpoints in centura windows to extract data formatting rules.  adjusted legacy, c++, dll, source code to perform .net p-invokes.  engineered the ui to leverage my new asp.net user control to provide: ? uniform data access for each ui control that needs data. ? raw data diagnostics sorely needed by field users. ? caching to eliminate unnecessary, duplicate mainframe traffic.  produced large volumes of software specifications, asp.net architecture, c# code, stored procedures, bug fixes & leadership for adp's \"eorder\" sales web site. the site manages sales accounts & workflow for billions in annual sales.  implemented microsoft application blocks exception handling, site wide.  produced a new asp.net user control to standardize the user's datagrid paging experience, & layere\n",
      "Number of tokens: 5045\n"
     ]
    }
   ],
   "source": [
    "import pandas as pd\n",
    "\n",
    "# Initialize variables for maximum number of tokens and corresponding resume\n",
    "max_tokens = 0\n",
    "max_resume = None\n",
    "\n",
    "# Iterate over all the resumes in the dataframe\n",
    "for resume in df['text']:\n",
    "    # Split the resume text into individual words or tokens\n",
    "    tokens = resume.split()\n",
    "    # Get the number of tokens in the resume\n",
    "    num_tokens = len(tokens)\n",
    "    # Check if this resume has the maximum number of tokens so far\n",
    "    if num_tokens > max_tokens:\n",
    "        max_tokens = num_tokens\n",
    "        max_resume = resume\n",
    "\n",
    "# Print the resume with the maximum number of tokens\n",
    "# print(\"Resume with max tokens:\")\n",
    "# print(max_resume)\n",
    "print(\"Number of tokens:\", max_tokens)"
   ]
  },
  {
   "cell_type": "code",
   "execution_count": null,
   "id": "09a1342a",
   "metadata": {},
   "outputs": [],
   "source": []
  }
 ],
 "metadata": {
  "kernelspec": {
   "display_name": "Python 3",
   "language": "python",
   "name": "python3"
  },
  "language_info": {
   "codemirror_mode": {
    "name": "ipython",
    "version": 3
   },
   "file_extension": ".py",
   "mimetype": "text/x-python",
   "name": "python",
   "nbconvert_exporter": "python",
   "pygments_lexer": "ipython3",
   "version": "3.8.10"
  }
 },
 "nbformat": 4,
 "nbformat_minor": 5
}
