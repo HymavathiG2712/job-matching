{
 "cells": [
  {
   "cell_type": "markdown",
   "id": "65ecbc76",
   "metadata": {},
   "source": [
    "## Tried different Similarities scores and went with cosine Similarity as it was more appropriate for the problem in hand"
   ]
  },
  {
   "cell_type": "markdown",
   "id": "bb82f03e",
   "metadata": {},
   "source": [
    "# Cosine Similarity"
   ]
  },
  {
   "cell_type": "code",
   "execution_count": 13,
   "id": "64f4d76e",
   "metadata": {},
   "outputs": [],
   "source": [
    "from sklearn.feature_extraction.text import CountVectorizer\n",
    "from sklearn.metrics.pairwise import cosine_similarity\n",
    "import pandas as pd"
   ]
  },
  {
   "cell_type": "code",
   "execution_count": 62,
   "id": "54cbe3cc",
   "metadata": {},
   "outputs": [],
   "source": [
    "df=pd.read_csv(\"df_all_jd.csv\")"
   ]
  },
  {
   "cell_type": "code",
   "execution_count": 63,
   "id": "2c420e40",
   "metadata": {},
   "outputs": [
    {
     "data": {
      "text/plain": [
       "Index(['Unnamed: 0', 'Job_Designation', 'resume_text', 'JD', 'tokens'], dtype='object')"
      ]
     },
     "execution_count": 63,
     "metadata": {},
     "output_type": "execute_result"
    }
   ],
   "source": [
    "df.columns"
   ]
  },
  {
   "cell_type": "code",
   "execution_count": 64,
   "id": "5c2fc5d9",
   "metadata": {},
   "outputs": [],
   "source": [
    "df=df[['resume_text', 'JD']]"
   ]
  },
  {
   "cell_type": "code",
   "execution_count": 65,
   "id": "287a2172",
   "metadata": {},
   "outputs": [],
   "source": [
    "df=df.dropna()"
   ]
  },
  {
   "cell_type": "code",
   "execution_count": 66,
   "id": "c14393bd",
   "metadata": {},
   "outputs": [
    {
     "data": {
      "text/plain": [
       "resume_text    0\n",
       "JD             0\n",
       "dtype: int64"
      ]
     },
     "execution_count": 66,
     "metadata": {},
     "output_type": "execute_result"
    }
   ],
   "source": [
    "df.isnull().sum()"
   ]
  },
  {
   "cell_type": "code",
   "execution_count": 81,
   "id": "4db8a9e0",
   "metadata": {},
   "outputs": [
    {
     "name": "stdout",
     "output_type": "stream",
     "text": [
      "Number of similarities less than 0.9: 4086\n"
     ]
    }
   ],
   "source": [
    "import pandas as pd\n",
    "from sklearn.feature_extraction.text import CountVectorizer\n",
    "from sklearn.metrics.pairwise import cosine_similarity\n",
    "\n",
    "vectorizer = CountVectorizer()\n",
    "vectorizer.fit(df['resume_text'])\n",
    "\n",
    "similarities = []\n",
    "for i in range(len(df)):\n",
    "    resume_vector = vectorizer.transform([df.iloc[i]['resume_text']])\n",
    "    job_description_vector = vectorizer.transform([df.iloc[i]['JD']])\n",
    "    similarity = cosine_similarity(resume_vector, job_description_vector)\n",
    "    similarities.append(similarity[0][0])\n",
    "    \n",
    "df['similarity'] = similarities\n",
    "\n",
    "df_sorted = df.sort_values('similarity', ascending=False)\n",
    "\n",
    "df_sorted\n",
    "\n",
    "count_less_than_05 = (df['similarity'] < 0.9).sum()\n",
    "# count_greater_than_05 = (df['similarity'] > 0.7).sum()\n",
    "\n",
    "print(\"Number of similarities less than 0.9:\", count_less_than_05)\n",
    "#print(\"Number of similarities greater than 0.7:\", count_greater_than_05)"
   ]
  },
  {
   "cell_type": "code",
   "execution_count": 69,
   "id": "cebfcd26",
   "metadata": {},
   "outputs": [],
   "source": [
    "df_sorted = df.sort_values('similarity', ascending=False)"
   ]
  },
  {
   "cell_type": "code",
   "execution_count": 70,
   "id": "438dd4fd",
   "metadata": {},
   "outputs": [
    {
     "data": {
      "text/html": [
       "<div>\n",
       "<style scoped>\n",
       "    .dataframe tbody tr th:only-of-type {\n",
       "        vertical-align: middle;\n",
       "    }\n",
       "\n",
       "    .dataframe tbody tr th {\n",
       "        vertical-align: top;\n",
       "    }\n",
       "\n",
       "    .dataframe thead th {\n",
       "        text-align: right;\n",
       "    }\n",
       "</style>\n",
       "<table border=\"1\" class=\"dataframe\">\n",
       "  <thead>\n",
       "    <tr style=\"text-align: right;\">\n",
       "      <th></th>\n",
       "      <th>resume_text</th>\n",
       "      <th>JD</th>\n",
       "      <th>similarity</th>\n",
       "    </tr>\n",
       "  </thead>\n",
       "  <tbody>\n",
       "    <tr>\n",
       "      <th>2254</th>\n",
       "      <td>sr. database administrator/developer sr. datab...</td>\n",
       "      <td>Job Title: Sr. Database Administrator/Develope...</td>\n",
       "      <td>0.946533</td>\n",
       "    </tr>\n",
       "    <tr>\n",
       "      <th>3287</th>\n",
       "      <td>ms sql server database administrator ms sql se...</td>\n",
       "      <td>Job Title: MS SQL Server Database Administrato...</td>\n",
       "      <td>0.943792</td>\n",
       "    </tr>\n",
       "    <tr>\n",
       "      <th>2151</th>\n",
       "      <td>sql server database administrator sql server d...</td>\n",
       "      <td>Job Title: SQL Server Database Administrator\\n...</td>\n",
       "      <td>0.942302</td>\n",
       "    </tr>\n",
       "    <tr>\n",
       "      <th>1048</th>\n",
       "      <td>visual, graphic, web designer, webmaster visua...</td>\n",
       "      <td>Job Title: Web and Visual Designer/Webmaster\\n...</td>\n",
       "      <td>0.941707</td>\n",
       "    </tr>\n",
       "    <tr>\n",
       "      <th>3170</th>\n",
       "      <td>senior sql server/oracle dba/etl engineer seni...</td>\n",
       "      <td>Job Title: Senior SQL Server/Oracle DBA/ETL En...</td>\n",
       "      <td>0.938961</td>\n",
       "    </tr>\n",
       "    <tr>\n",
       "      <th>...</th>\n",
       "      <td>...</td>\n",
       "      <td>...</td>\n",
       "      <td>...</td>\n",
       "    </tr>\n",
       "    <tr>\n",
       "      <th>3971</th>\n",
       "      <td>engineering technician ii-iii (electrical) eng...</td>\n",
       "      <td>Job Title: Engineering Technician II-III (Elec...</td>\n",
       "      <td>0.448132</td>\n",
       "    </tr>\n",
       "    <tr>\n",
       "      <th>2158</th>\n",
       "      <td>front- end developer front-end developer front...</td>\n",
       "      <td>Job Title: Front-end Developer\\n\\nJob Descript...</td>\n",
       "      <td>0.420465</td>\n",
       "    </tr>\n",
       "    <tr>\n",
       "      <th>2183</th>\n",
       "      <td>database administrator database administrator ...</td>\n",
       "      <td>Job Title: Database Administrator\\n\\nLocation...</td>\n",
       "      <td>0.338358</td>\n",
       "    </tr>\n",
       "    <tr>\n",
       "      <th>2226</th>\n",
       "      <td>cashier/customer service cashier/customer serv...</td>\n",
       "      <td>Job Title: Associate Database/Systems Administ...</td>\n",
       "      <td>0.330751</td>\n",
       "    </tr>\n",
       "    <tr>\n",
       "      <th>2232</th>\n",
       "      <td>database administrator ii database administrat...</td>\n",
       "      <td>Job Title: Database Developer/Administrator\\n\\...</td>\n",
       "      <td>0.232885</td>\n",
       "    </tr>\n",
       "  </tbody>\n",
       "</table>\n",
       "<p>4367 rows × 3 columns</p>\n",
       "</div>"
      ],
      "text/plain": [
       "                                            resume_text  \\\n",
       "2254  sr. database administrator/developer sr. datab...   \n",
       "3287  ms sql server database administrator ms sql se...   \n",
       "2151  sql server database administrator sql server d...   \n",
       "1048  visual, graphic, web designer, webmaster visua...   \n",
       "3170  senior sql server/oracle dba/etl engineer seni...   \n",
       "...                                                 ...   \n",
       "3971  engineering technician ii-iii (electrical) eng...   \n",
       "2158  front- end developer front-end developer front...   \n",
       "2183  database administrator database administrator ...   \n",
       "2226  cashier/customer service cashier/customer serv...   \n",
       "2232  database administrator ii database administrat...   \n",
       "\n",
       "                                                     JD  similarity  \n",
       "2254  Job Title: Sr. Database Administrator/Develope...    0.946533  \n",
       "3287  Job Title: MS SQL Server Database Administrato...    0.943792  \n",
       "2151  Job Title: SQL Server Database Administrator\\n...    0.942302  \n",
       "1048  Job Title: Web and Visual Designer/Webmaster\\n...    0.941707  \n",
       "3170  Job Title: Senior SQL Server/Oracle DBA/ETL En...    0.938961  \n",
       "...                                                 ...         ...  \n",
       "3971  Job Title: Engineering Technician II-III (Elec...    0.448132  \n",
       "2158  Job Title: Front-end Developer\\n\\nJob Descript...    0.420465  \n",
       "2183   Job Title: Database Administrator\\n\\nLocation...    0.338358  \n",
       "2226  Job Title: Associate Database/Systems Administ...    0.330751  \n",
       "2232  Job Title: Database Developer/Administrator\\n\\...    0.232885  \n",
       "\n",
       "[4367 rows x 3 columns]"
      ]
     },
     "execution_count": 70,
     "metadata": {},
     "output_type": "execute_result"
    }
   ],
   "source": [
    "df_sorted"
   ]
  },
  {
   "cell_type": "code",
   "execution_count": 92,
   "id": "f10152f3",
   "metadata": {},
   "outputs": [
    {
     "name": "stdout",
     "output_type": "stream",
     "text": [
      "Number of similarities less than 0.8: 50\n"
     ]
    }
   ],
   "source": [
    "import pandas as pd\n",
    "from sklearn.feature_extraction.text import CountVectorizer\n",
    "from sklearn.metrics.pairwise import cosine_similarity\n",
    "\n",
    "vectorizer = CountVectorizer()\n",
    "vectorizer.fit(df1['resume_text'])\n",
    "\n",
    "similarities = []\n",
    "for i in range(len(df1)):\n",
    "    resume_vector = vectorizer.transform([df1.iloc[i]['resume_text']])\n",
    "    job_description_vector = vectorizer.transform([df1.iloc[i]['JD']])\n",
    "    similarity = cosine_similarity(resume_vector, job_description_vector)\n",
    "    similarities.append(similarity[0][0])\n",
    "    \n",
    "df1['similarity'] = similarities\n",
    "\n",
    "df_sorted1 = df1.sort_values('similarity', ascending=False)\n",
    "\n",
    "df_sorted1\n",
    "\n",
    "\n",
    "count_less_than_05 = (df1['similarity'] < 0.8).sum()\n",
    "# count_greater_than_05 = (df['similarity'] > 0.7).sum()\n",
    "\n",
    "print(\"Number of similarities less than 0.8:\", count_less_than_05)\n",
    "#print(\"Number of similarities greater than 0.7:\", count_greater_than_05)"
   ]
  },
  {
   "cell_type": "markdown",
   "id": "08faeabb",
   "metadata": {},
   "source": [
    "# Jaccard Similarity"
   ]
  },
  {
   "cell_type": "code",
   "execution_count": 14,
   "id": "28572b67",
   "metadata": {},
   "outputs": [],
   "source": [
    "import pandas as pd\n",
    "\n",
    "# Assuming your data frame is named 'df' and has columns 'resume_text' and 'job_description'\n",
    "# You can use the following function to calculate Jaccard similarity for each row:\n",
    "\n",
    "def jaccard_similarity(str1, str2):\n",
    "    tokens1 = set(str1.lower().split()) # Convert the first string into a set of unique lowercase tokens\n",
    "    tokens2 = set(str2.lower().split()) # Convert the second string into a set of unique lowercase tokens\n",
    "    \n",
    "    intersection = len(tokens1.intersection(tokens2)) # Find the size of the intersection of the two sets\n",
    "    union = len(tokens1.union(tokens2)) # Find the size of the union of the two sets\n",
    "    \n",
    "    if union == 0:\n",
    "        return 0\n",
    "    \n",
    "    return intersection / union # Calculate the Jaccard similarity\n",
    "\n",
    "# Apply the jaccard_similarity function to each row of the data frame\n",
    "df['jaccard_similarity'] = df.apply(lambda row: jaccard_similarity(row['resume_text'], row['JD']), axis=1)\n",
    "\n",
    "# Now the 'jaccard_similarity' column will contain the Jaccard similarity between the resume text and the job description for each row"
   ]
  },
  {
   "cell_type": "code",
   "execution_count": 15,
   "id": "6c6c076e",
   "metadata": {},
   "outputs": [
    {
     "data": {
      "text/html": [
       "<div>\n",
       "<style scoped>\n",
       "    .dataframe tbody tr th:only-of-type {\n",
       "        vertical-align: middle;\n",
       "    }\n",
       "\n",
       "    .dataframe tbody tr th {\n",
       "        vertical-align: top;\n",
       "    }\n",
       "\n",
       "    .dataframe thead th {\n",
       "        text-align: right;\n",
       "    }\n",
       "</style>\n",
       "<table border=\"1\" class=\"dataframe\">\n",
       "  <thead>\n",
       "    <tr style=\"text-align: right;\">\n",
       "      <th></th>\n",
       "      <th>Job_Designation</th>\n",
       "      <th>resume_text</th>\n",
       "      <th>JD</th>\n",
       "      <th>tokens</th>\n",
       "      <th>jaccard_similarity</th>\n",
       "    </tr>\n",
       "  </thead>\n",
       "  <tbody>\n",
       "    <tr>\n",
       "      <th>0</th>\n",
       "      <td>systems administrator</td>\n",
       "      <td>python/django developer python/django develope...</td>\n",
       "      <td>Job Title: Python/Django Developer\\n\\nJob Summ...</td>\n",
       "      <td>1360</td>\n",
       "      <td>0.244057</td>\n",
       "    </tr>\n",
       "    <tr>\n",
       "      <th>1</th>\n",
       "      <td>network administrator,systems administrator</td>\n",
       "      <td>senior cassandra developer senior cassandra de...</td>\n",
       "      <td>Job Title: Senior Cassandra Developer/Consulta...</td>\n",
       "      <td>1361</td>\n",
       "      <td>0.265886</td>\n",
       "    </tr>\n",
       "    <tr>\n",
       "      <th>2</th>\n",
       "      <td>database administrator,web developer,software ...</td>\n",
       "      <td>python developer python developer python devel...</td>\n",
       "      <td>Job Title: Python Developer\\n\\nJob Type: Full-...</td>\n",
       "      <td>1361</td>\n",
       "      <td>0.246862</td>\n",
       "    </tr>\n",
       "    <tr>\n",
       "      <th>3</th>\n",
       "      <td>security analyst</td>\n",
       "      <td>sr. salesforce developer/ administrator sr. sa...</td>\n",
       "      <td>Job Title: Senior Salesforce Developer/Adminis...</td>\n",
       "      <td>1361</td>\n",
       "      <td>0.286385</td>\n",
       "    </tr>\n",
       "    <tr>\n",
       "      <th>4</th>\n",
       "      <td>project manager</td>\n",
       "      <td>cyber security analyst cyber security analyst ...</td>\n",
       "      <td>Job Title: Cyber Security Analyst\\n\\nJob Descr...</td>\n",
       "      <td>1361</td>\n",
       "      <td>0.256569</td>\n",
       "    </tr>\n",
       "  </tbody>\n",
       "</table>\n",
       "</div>"
      ],
      "text/plain": [
       "                                     Job_Designation  \\\n",
       "0                              systems administrator   \n",
       "1        network administrator,systems administrator   \n",
       "2  database administrator,web developer,software ...   \n",
       "3                                   security analyst   \n",
       "4                                    project manager   \n",
       "\n",
       "                                         resume_text  \\\n",
       "0  python/django developer python/django develope...   \n",
       "1  senior cassandra developer senior cassandra de...   \n",
       "2  python developer python developer python devel...   \n",
       "3  sr. salesforce developer/ administrator sr. sa...   \n",
       "4  cyber security analyst cyber security analyst ...   \n",
       "\n",
       "                                                  JD  tokens  \\\n",
       "0  Job Title: Python/Django Developer\\n\\nJob Summ...    1360   \n",
       "1  Job Title: Senior Cassandra Developer/Consulta...    1361   \n",
       "2  Job Title: Python Developer\\n\\nJob Type: Full-...    1361   \n",
       "3  Job Title: Senior Salesforce Developer/Adminis...    1361   \n",
       "4  Job Title: Cyber Security Analyst\\n\\nJob Descr...    1361   \n",
       "\n",
       "   jaccard_similarity  \n",
       "0            0.244057  \n",
       "1            0.265886  \n",
       "2            0.246862  \n",
       "3            0.286385  \n",
       "4            0.256569  "
      ]
     },
     "execution_count": 15,
     "metadata": {},
     "output_type": "execute_result"
    }
   ],
   "source": [
    "df"
   ]
  },
  {
   "cell_type": "code",
   "execution_count": 3,
   "id": "4c34b5ef",
   "metadata": {},
   "outputs": [],
   "source": [
    "#pip install pandas tensorflow-text tensorflow-hub"
   ]
  },
  {
   "cell_type": "markdown",
   "id": "e546891c",
   "metadata": {},
   "source": [
    "# Euclidean Distance"
   ]
  },
  {
   "cell_type": "code",
   "execution_count": 17,
   "id": "3f4bebed",
   "metadata": {},
   "outputs": [],
   "source": [
    "import pandas as pd\n",
    "import tensorflow_hub as hub\n",
    "import tensorflow_text as text\n",
    "import numpy as np\n",
    "\n",
    "embed = hub.load(\"https://tfhub.dev/google/universal-sentence-encoder/4\")"
   ]
  },
  {
   "cell_type": "code",
   "execution_count": 18,
   "id": "c2dcc8d6",
   "metadata": {},
   "outputs": [],
   "source": [
    "def euclidean_distance(a, b):\n",
    "    return np.sqrt(np.sum((a - b)**2, axis=1))"
   ]
  },
  {
   "cell_type": "code",
   "execution_count": 20,
   "id": "e5111c5f",
   "metadata": {},
   "outputs": [],
   "source": [
    "# Assuming your DataFrame is named df\n",
    "resume_embeddings = embed(new_df['resume_text'].values)\n",
    "job_description_embeddings = embed(new_df['JD'].values)\n",
    "\n",
    "euclidean_distances = euclidean_distance(resume_embeddings, job_description_embeddings)\n",
    "\n",
    "# Add the Euclidean distance to the DataFrame\n",
    "df['euclidean_distance'] = euclidean_distances"
   ]
  },
  {
   "cell_type": "code",
   "execution_count": 21,
   "id": "43695266",
   "metadata": {},
   "outputs": [
    {
     "data": {
      "text/html": [
       "<div>\n",
       "<style scoped>\n",
       "    .dataframe tbody tr th:only-of-type {\n",
       "        vertical-align: middle;\n",
       "    }\n",
       "\n",
       "    .dataframe tbody tr th {\n",
       "        vertical-align: top;\n",
       "    }\n",
       "\n",
       "    .dataframe thead th {\n",
       "        text-align: right;\n",
       "    }\n",
       "</style>\n",
       "<table border=\"1\" class=\"dataframe\">\n",
       "  <thead>\n",
       "    <tr style=\"text-align: right;\">\n",
       "      <th></th>\n",
       "      <th>Job_Designation</th>\n",
       "      <th>resume_text</th>\n",
       "      <th>JD</th>\n",
       "      <th>tokens</th>\n",
       "      <th>jaccard_similarity</th>\n",
       "      <th>euclidean_distance</th>\n",
       "    </tr>\n",
       "  </thead>\n",
       "  <tbody>\n",
       "    <tr>\n",
       "      <th>0</th>\n",
       "      <td>systems administrator</td>\n",
       "      <td>python/django developer python/django develope...</td>\n",
       "      <td>Job Title: Python/Django Developer\\n\\nJob Summ...</td>\n",
       "      <td>1360</td>\n",
       "      <td>0.244057</td>\n",
       "      <td>0.612019</td>\n",
       "    </tr>\n",
       "    <tr>\n",
       "      <th>1</th>\n",
       "      <td>network administrator,systems administrator</td>\n",
       "      <td>senior cassandra developer senior cassandra de...</td>\n",
       "      <td>Job Title: Senior Cassandra Developer/Consulta...</td>\n",
       "      <td>1361</td>\n",
       "      <td>0.265886</td>\n",
       "      <td>0.635612</td>\n",
       "    </tr>\n",
       "    <tr>\n",
       "      <th>2</th>\n",
       "      <td>database administrator,web developer,software ...</td>\n",
       "      <td>python developer python developer python devel...</td>\n",
       "      <td>Job Title: Python Developer\\n\\nJob Type: Full-...</td>\n",
       "      <td>1361</td>\n",
       "      <td>0.246862</td>\n",
       "      <td>0.561041</td>\n",
       "    </tr>\n",
       "    <tr>\n",
       "      <th>3</th>\n",
       "      <td>security analyst</td>\n",
       "      <td>sr. salesforce developer/ administrator sr. sa...</td>\n",
       "      <td>Job Title: Senior Salesforce Developer/Adminis...</td>\n",
       "      <td>1361</td>\n",
       "      <td>0.286385</td>\n",
       "      <td>0.451729</td>\n",
       "    </tr>\n",
       "    <tr>\n",
       "      <th>4</th>\n",
       "      <td>project manager</td>\n",
       "      <td>cyber security analyst cyber security analyst ...</td>\n",
       "      <td>Job Title: Cyber Security Analyst\\n\\nJob Descr...</td>\n",
       "      <td>1361</td>\n",
       "      <td>0.256569</td>\n",
       "      <td>0.573502</td>\n",
       "    </tr>\n",
       "  </tbody>\n",
       "</table>\n",
       "</div>"
      ],
      "text/plain": [
       "                                     Job_Designation  \\\n",
       "0                              systems administrator   \n",
       "1        network administrator,systems administrator   \n",
       "2  database administrator,web developer,software ...   \n",
       "3                                   security analyst   \n",
       "4                                    project manager   \n",
       "\n",
       "                                         resume_text  \\\n",
       "0  python/django developer python/django develope...   \n",
       "1  senior cassandra developer senior cassandra de...   \n",
       "2  python developer python developer python devel...   \n",
       "3  sr. salesforce developer/ administrator sr. sa...   \n",
       "4  cyber security analyst cyber security analyst ...   \n",
       "\n",
       "                                                  JD  tokens  \\\n",
       "0  Job Title: Python/Django Developer\\n\\nJob Summ...    1360   \n",
       "1  Job Title: Senior Cassandra Developer/Consulta...    1361   \n",
       "2  Job Title: Python Developer\\n\\nJob Type: Full-...    1361   \n",
       "3  Job Title: Senior Salesforce Developer/Adminis...    1361   \n",
       "4  Job Title: Cyber Security Analyst\\n\\nJob Descr...    1361   \n",
       "\n",
       "   jaccard_similarity  euclidean_distance  \n",
       "0            0.244057            0.612019  \n",
       "1            0.265886            0.635612  \n",
       "2            0.246862            0.561041  \n",
       "3            0.286385            0.451729  \n",
       "4            0.256569            0.573502  "
      ]
     },
     "execution_count": 21,
     "metadata": {},
     "output_type": "execute_result"
    }
   ],
   "source": [
    "df"
   ]
  }
 ],
 "metadata": {
  "kernelspec": {
   "display_name": "Python 3",
   "language": "python",
   "name": "python3"
  },
  "language_info": {
   "codemirror_mode": {
    "name": "ipython",
    "version": 3
   },
   "file_extension": ".py",
   "mimetype": "text/x-python",
   "name": "python",
   "nbconvert_exporter": "python",
   "pygments_lexer": "ipython3",
   "version": "3.8.10"
  }
 },
 "nbformat": 4,
 "nbformat_minor": 5
}
