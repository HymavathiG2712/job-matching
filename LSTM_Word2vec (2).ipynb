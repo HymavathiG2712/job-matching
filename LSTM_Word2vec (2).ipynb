{
 "cells": [
  {
   "cell_type": "code",
   "execution_count": 1,
   "id": "a1c3c0c2",
   "metadata": {},
   "outputs": [
    {
     "name": "stderr",
     "output_type": "stream",
     "text": [
      "2023-05-02 10:55:12.650998: W tensorflow/stream_executor/platform/default/dso_loader.cc:64] Could not load dynamic library 'libcudart.so.11.0'; dlerror: libcudart.so.11.0: cannot open shared object file: No such file or directory\n",
      "2023-05-02 10:55:12.651016: I tensorflow/stream_executor/cuda/cudart_stub.cc:29] Ignore above cudart dlerror if you do not have a GPU set up on your machine.\n"
     ]
    }
   ],
   "source": [
    "import pandas as pd\n",
    "import numpy as np\n",
    "from sklearn.model_selection import train_test_split\n",
    "from keras.preprocessing.text import Tokenizer\n",
    "from keras.preprocessing.sequence import pad_sequences\n",
    "from keras.models import Sequential\n",
    "from keras.layers import Embedding, LSTM, Dense, Dropout\n",
    "from keras.callbacks import EarlyStopping, ModelCheckpoint\n",
    "from gensim.models import Word2Vec\n"
   ]
  },
  {
   "cell_type": "code",
   "execution_count": null,
   "id": "9fd45e73",
   "metadata": {},
   "outputs": [],
   "source": []
  },
  {
   "cell_type": "code",
   "execution_count": 70,
   "id": "3956d410",
   "metadata": {},
   "outputs": [],
   "source": [
    "\n",
    "# Load your dataset\n",
    "df = pd.read_csv(\"final_data.csv\")\n",
    "from sklearn.preprocessing import LabelEncoder\n",
    "\n",
    "\n",
    "# Create a LabelEncoder instance\n",
    "label_encoder = LabelEncoder()\n",
    "\n",
    "# Fit the LabelEncoder on the \"Output\" column and transform it\n",
    "df[\"Output\"] = label_encoder.fit_transform(df[\"Output\"])\n",
    "\n",
    "# Preprocess the data by combining the Resume_Text and Job_Description columns\n",
    "df[\"combined_text\"] = df[\"Resume_Text\"] + \" \" + df[\"Job_Description\"]\n"
   ]
  },
  {
   "cell_type": "code",
   "execution_count": 71,
   "id": "dfa40450",
   "metadata": {},
   "outputs": [
    {
     "data": {
      "text/plain": [
       "0"
      ]
     },
     "execution_count": 71,
     "metadata": {},
     "output_type": "execute_result"
    }
   ],
   "source": [
    "df[\"combined_text\"].isnull().sum()"
   ]
  },
  {
   "cell_type": "code",
   "execution_count": 72,
   "id": "16e8fcc4",
   "metadata": {},
   "outputs": [
    {
     "data": {
      "text/plain": [
       "1    10481\n",
       "0     9362\n",
       "Name: Output, dtype: int64"
      ]
     },
     "execution_count": 72,
     "metadata": {},
     "output_type": "execute_result"
    }
   ],
   "source": [
    "df['Output'].value_counts()"
   ]
  },
  {
   "cell_type": "code",
   "execution_count": 73,
   "id": "fdb0e8fd",
   "metadata": {},
   "outputs": [
    {
     "data": {
      "text/html": [
       "<div>\n",
       "<style scoped>\n",
       "    .dataframe tbody tr th:only-of-type {\n",
       "        vertical-align: middle;\n",
       "    }\n",
       "\n",
       "    .dataframe tbody tr th {\n",
       "        vertical-align: top;\n",
       "    }\n",
       "\n",
       "    .dataframe thead th {\n",
       "        text-align: right;\n",
       "    }\n",
       "</style>\n",
       "<table border=\"1\" class=\"dataframe\">\n",
       "  <thead>\n",
       "    <tr style=\"text-align: right;\">\n",
       "      <th></th>\n",
       "      <th>Unnamed: 0</th>\n",
       "      <th>Resume_Text</th>\n",
       "      <th>Job_Description</th>\n",
       "      <th>similarity</th>\n",
       "      <th>similarity2</th>\n",
       "      <th>Output</th>\n",
       "      <th>combined_text</th>\n",
       "    </tr>\n",
       "  </thead>\n",
       "  <tbody>\n",
       "    <tr>\n",
       "      <th>0</th>\n",
       "      <td>0</td>\n",
       "      <td>sr python developer sr python developer sr pyt...</td>\n",
       "      <td>ssssjob title senior python developer job desc...</td>\n",
       "      <td>0.713416</td>\n",
       "      <td>0.928744</td>\n",
       "      <td>0</td>\n",
       "      <td>sr python developer sr python developer sr pyt...</td>\n",
       "    </tr>\n",
       "    <tr>\n",
       "      <th>1</th>\n",
       "      <td>1</td>\n",
       "      <td>full stack developer full stack developer full...</td>\n",
       "      <td>job title full stack developer location housto...</td>\n",
       "      <td>0.767558</td>\n",
       "      <td>0.977133</td>\n",
       "      <td>0</td>\n",
       "      <td>full stack developer full stack developer full...</td>\n",
       "    </tr>\n",
       "    <tr>\n",
       "      <th>2</th>\n",
       "      <td>2</td>\n",
       "      <td>accountant summary financial accountant specia...</td>\n",
       "      <td>firewall architectlocation atlantaga 30339 dur...</td>\n",
       "      <td>0.040615</td>\n",
       "      <td>0.327215</td>\n",
       "      <td>1</td>\n",
       "      <td>accountant summary financial accountant specia...</td>\n",
       "    </tr>\n",
       "    <tr>\n",
       "      <th>3</th>\n",
       "      <td>3</td>\n",
       "      <td>bilingual pretrial supervisor bilingual pretri...</td>\n",
       "      <td>ssjob title bilingual pretrial supervisor loca...</td>\n",
       "      <td>0.783257</td>\n",
       "      <td>0.972054</td>\n",
       "      <td>0</td>\n",
       "      <td>bilingual pretrial supervisor bilingual pretri...</td>\n",
       "    </tr>\n",
       "    <tr>\n",
       "      <th>4</th>\n",
       "      <td>4</td>\n",
       "      <td>database administrator database administrator ...</td>\n",
       "      <td>ssjob title database administrator location ch...</td>\n",
       "      <td>0.728063</td>\n",
       "      <td>0.935685</td>\n",
       "      <td>0</td>\n",
       "      <td>database administrator database administrator ...</td>\n",
       "    </tr>\n",
       "    <tr>\n",
       "      <th>...</th>\n",
       "      <td>...</td>\n",
       "      <td>...</td>\n",
       "      <td>...</td>\n",
       "      <td>...</td>\n",
       "      <td>...</td>\n",
       "      <td>...</td>\n",
       "      <td>...</td>\n",
       "    </tr>\n",
       "    <tr>\n",
       "      <th>19838</th>\n",
       "      <td>19838</td>\n",
       "      <td>technical support engineer technical support e...</td>\n",
       "      <td>sssjob title technical support engineer locati...</td>\n",
       "      <td>0.703768</td>\n",
       "      <td>0.898069</td>\n",
       "      <td>0</td>\n",
       "      <td>technical support engineer technical support e...</td>\n",
       "    </tr>\n",
       "    <tr>\n",
       "      <th>19839</th>\n",
       "      <td>19839</td>\n",
       "      <td>system administrator system administrator gard...</td>\n",
       "      <td>ssssjob title senior system administrator loca...</td>\n",
       "      <td>0.714000</td>\n",
       "      <td>0.913010</td>\n",
       "      <td>0</td>\n",
       "      <td>system administrator system administrator gard...</td>\n",
       "    </tr>\n",
       "    <tr>\n",
       "      <th>19840</th>\n",
       "      <td>19840</td>\n",
       "      <td>freelance website designer summary marine corp...</td>\n",
       "      <td>net integration developer longterm contract mt...</td>\n",
       "      <td>0.105613</td>\n",
       "      <td>0.500174</td>\n",
       "      <td>1</td>\n",
       "      <td>freelance website designer summary marine corp...</td>\n",
       "    </tr>\n",
       "    <tr>\n",
       "      <th>19841</th>\n",
       "      <td>19841</td>\n",
       "      <td>director finance professional summary progress...</td>\n",
       "      <td>senior javascript developer learn mean stack e...</td>\n",
       "      <td>0.060547</td>\n",
       "      <td>0.177197</td>\n",
       "      <td>1</td>\n",
       "      <td>director finance professional summary progress...</td>\n",
       "    </tr>\n",
       "    <tr>\n",
       "      <th>19842</th>\n",
       "      <td>19842</td>\n",
       "      <td>python developer python developer python devel...</td>\n",
       "      <td>ssssjob title python developer job description...</td>\n",
       "      <td>0.751070</td>\n",
       "      <td>0.950240</td>\n",
       "      <td>0</td>\n",
       "      <td>python developer python developer python devel...</td>\n",
       "    </tr>\n",
       "  </tbody>\n",
       "</table>\n",
       "<p>19843 rows × 7 columns</p>\n",
       "</div>"
      ],
      "text/plain": [
       "       Unnamed: 0                                        Resume_Text  \\\n",
       "0               0  sr python developer sr python developer sr pyt...   \n",
       "1               1  full stack developer full stack developer full...   \n",
       "2               2  accountant summary financial accountant specia...   \n",
       "3               3  bilingual pretrial supervisor bilingual pretri...   \n",
       "4               4  database administrator database administrator ...   \n",
       "...           ...                                                ...   \n",
       "19838       19838  technical support engineer technical support e...   \n",
       "19839       19839  system administrator system administrator gard...   \n",
       "19840       19840  freelance website designer summary marine corp...   \n",
       "19841       19841  director finance professional summary progress...   \n",
       "19842       19842  python developer python developer python devel...   \n",
       "\n",
       "                                         Job_Description  similarity  \\\n",
       "0      ssssjob title senior python developer job desc...    0.713416   \n",
       "1      job title full stack developer location housto...    0.767558   \n",
       "2      firewall architectlocation atlantaga 30339 dur...    0.040615   \n",
       "3      ssjob title bilingual pretrial supervisor loca...    0.783257   \n",
       "4      ssjob title database administrator location ch...    0.728063   \n",
       "...                                                  ...         ...   \n",
       "19838  sssjob title technical support engineer locati...    0.703768   \n",
       "19839  ssssjob title senior system administrator loca...    0.714000   \n",
       "19840  net integration developer longterm contract mt...    0.105613   \n",
       "19841  senior javascript developer learn mean stack e...    0.060547   \n",
       "19842  ssssjob title python developer job description...    0.751070   \n",
       "\n",
       "       similarity2  Output                                      combined_text  \n",
       "0         0.928744       0  sr python developer sr python developer sr pyt...  \n",
       "1         0.977133       0  full stack developer full stack developer full...  \n",
       "2         0.327215       1  accountant summary financial accountant specia...  \n",
       "3         0.972054       0  bilingual pretrial supervisor bilingual pretri...  \n",
       "4         0.935685       0  database administrator database administrator ...  \n",
       "...            ...     ...                                                ...  \n",
       "19838     0.898069       0  technical support engineer technical support e...  \n",
       "19839     0.913010       0  system administrator system administrator gard...  \n",
       "19840     0.500174       1  freelance website designer summary marine corp...  \n",
       "19841     0.177197       1  director finance professional summary progress...  \n",
       "19842     0.950240       0  python developer python developer python devel...  \n",
       "\n",
       "[19843 rows x 7 columns]"
      ]
     },
     "execution_count": 73,
     "metadata": {},
     "output_type": "execute_result"
    }
   ],
   "source": [
    "df"
   ]
  },
  {
   "cell_type": "code",
   "execution_count": 74,
   "id": "f50b424a",
   "metadata": {},
   "outputs": [],
   "source": [
    "df[\"combined_text\"] = df[\"combined_text\"].fillna('').astype(str)\n"
   ]
  },
  {
   "cell_type": "code",
   "execution_count": 75,
   "id": "a359bbc7",
   "metadata": {},
   "outputs": [
    {
     "data": {
      "image/png": "[encoded data removed]",
      "text/plain": [
       "<Figure size 432x288 with 1 Axes>"
      ]
     },
     "metadata": {
      "needs_background": "light"
     },
     "output_type": "display_data"
    }
   ],
   "source": [
    "import matplotlib.pyplot as plt\n",
    "\n",
    "lengths = [len(text.split()) for text in df[\"combined_text\"]]\n",
    "plt.hist(lengths, bins=50)\n",
    "plt.xlabel(\"Length of Combined Text\")\n",
    "plt.ylabel(\"Frequency\")\n",
    "plt.show()\n"
   ]
  },
  {
   "cell_type": "code",
   "execution_count": 76,
   "id": "58daaf11",
   "metadata": {},
   "outputs": [],
   "source": [
    "# Tokenize and pad the text data\n",
    "max_len = int(np.percentile(lengths, 95))  # 95th percentile\n",
    "tokenizer = Tokenizer()\n",
    "tokenizer.fit_on_texts(df[\"combined_text\"])\n",
    "sequences = tokenizer.texts_to_sequences(df[\"combined_text\"])\n",
    "word_index = tokenizer.word_index\n",
    "data = pad_sequences(sequences, maxlen=max_len)\n",
    "\n"
   ]
  },
  {
   "cell_type": "code",
   "execution_count": 77,
   "id": "5f71e77d",
   "metadata": {},
   "outputs": [],
   "source": [
    "# Load your trained word2vec model\n",
    "word2vec = Word2Vec.load(\"Lastword2vec.model\")\n"
   ]
  },
  {
   "cell_type": "code",
   "execution_count": null,
   "id": "7891aa6a",
   "metadata": {},
   "outputs": [],
   "source": []
  },
  {
   "cell_type": "code",
   "execution_count": 78,
   "id": "ad8b5f3a",
   "metadata": {},
   "outputs": [],
   "source": [
    "embedding_dim = 100  # Update this to match the vector_size you used in your word2vec model\n",
    "embedding_matrix = np.zeros((len(word_index) + 1, embedding_dim))\n",
    "for word, i in word_index.items():\n",
    "    if word in word2vec.wv:\n",
    "        embedding_matrix[i] = word2vec.wv[word]\n"
   ]
  },
  {
   "cell_type": "code",
   "execution_count": 96,
   "id": "70b1457d",
   "metadata": {},
   "outputs": [],
   "source": [
    "\n",
    "# Create the LSTM model\n",
    "model = Sequential()\n",
    "model.add(Embedding(len(word_index) + 1, embedding_dim, weights=[embedding_matrix], input_length=max_len, trainable=False))\n",
    "model.add(LSTM(64, return_sequences=True))\n",
    "#model.add(Dropout(0.2))\n",
    "model.add(LSTM(64))\n",
    "#model.add(Dropout(0.2))\n",
    "model.add(Dense(32, activation=\"relu\"))\n",
    "model.add(Dense(1, activation=\"sigmoid\"))\n",
    "model.compile(loss=\"binary_crossentropy\", optimizer=\"adam\", metrics=[\"accuracy\"])\n"
   ]
  },
  {
   "cell_type": "code",
   "execution_count": 97,
   "id": "63cc975a",
   "metadata": {},
   "outputs": [],
   "source": [
    "\n",
    "# Split the data into training and validation sets\n",
    "X_train, X_val, y_train, y_val = train_test_split(data, df[\"Output\"], test_size=0.2, random_state=42)\n",
    "\n"
   ]
  },
  {
   "cell_type": "code",
   "execution_count": 98,
   "id": "d19e63d3",
   "metadata": {},
   "outputs": [],
   "source": [
    "# Train the model with early stopping\n",
    "batch_size = 64\n",
    "epochs = 1\n",
    "early_stopping = EarlyStopping(monitor=\"val_loss\", patience=1, restore_best_weights=True)\n",
    "checkpoint = ModelCheckpoint(\"LASTLSTMmodel2.h5\", save_best_only=True, monitor=\"val_loss\", mode=\"min\")\n",
    "\n"
   ]
  },
  {
   "cell_type": "code",
   "execution_count": 99,
   "id": "e24b1c36",
   "metadata": {},
   "outputs": [],
   "source": [
    "import torch\n",
    "\n",
    "torch.cuda.empty_cache()"
   ]
  },
  {
   "cell_type": "code",
   "execution_count": 100,
   "id": "80ce6c3c",
   "metadata": {},
   "outputs": [],
   "source": [
    "import os\n",
    "os.environ['CUDA_VISIBLE_DEVICES'] = '1'"
   ]
  },
  {
   "cell_type": "code",
   "execution_count": 101,
   "id": "dcc51b3b",
   "metadata": {
    "scrolled": true
   },
   "outputs": [
    {
     "name": "stdout",
     "output_type": "stream",
     "text": [
      "249/249 [==============================] - 239s 953ms/step - loss: 0.2263 - accuracy: 0.9165 - val_loss: 0.1126 - val_accuracy: 0.9640\n"
     ]
    }
   ],
   "source": [
    "torch.cuda.empty_cache()\n",
    "history = model.fit(X_train, y_train, validation_data=(X_val, y_val), epochs=epochs, batch_size=batch_size, callbacks=[early_stopping, checkpoint])\n"
   ]
  },
  {
   "cell_type": "code",
   "execution_count": null,
   "id": "a5f6041f",
   "metadata": {},
   "outputs": [],
   "source": []
  },
  {
   "cell_type": "code",
   "execution_count": 103,
   "id": "31c164c9",
   "metadata": {},
   "outputs": [
    {
     "name": "stdout",
     "output_type": "stream",
     "text": [
      "              precision    recall  f1-score   support\n",
      "\n",
      "       MATCH       0.96      0.97      0.96      1915\n",
      "   NOT MATCH       0.97      0.96      0.97      2054\n",
      "\n",
      "    accuracy                           0.96      3969\n",
      "   macro avg       0.96      0.96      0.96      3969\n",
      "weighted avg       0.96      0.96      0.96      3969\n",
      "\n"
     ]
    }
   ],
   "source": [
    "import numpy as np\n",
    "import keras\n",
    "from sklearn.metrics import classification_report\n",
    "\n",
    "# Load the saved model from H5 file\n",
    "#model = keras.models.load_model('LASTLSTMmodel.h5')\n",
    "\n",
    "\n",
    "# Use the model to predict labels for test data\n",
    "y_pred = model.predict(X_val)\n",
    "y_pred = (model.predict(X_val) > 0.5).astype(\"int32\")\n",
    "\n",
    "# Print classification report\n",
    "target_names = ['MATCH',\"NOT MATCH\"] # List of class names\n",
    "print(classification_report(y_val, y_pred, target_names=target_names))"
   ]
  },
  {
   "cell_type": "code",
   "execution_count": null,
   "id": "2f24dd6e",
   "metadata": {},
   "outputs": [],
   "source": []
  }
 ],
 "metadata": {
  "kernelspec": {
   "display_name": "Python 3 (ipykernel)",
   "language": "python",
   "name": "python3"
  },
  "language_info": {
   "codemirror_mode": {
    "name": "ipython",
    "version": 3
   },
   "file_extension": ".py",
   "mimetype": "text/x-python",
   "name": "python",
   "nbconvert_exporter": "python",
   "pygments_lexer": "ipython3",
   "version": "3.9.7"
  }
 },
 "nbformat": 4,
 "nbformat_minor": 5
}
