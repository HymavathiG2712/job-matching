{
 "cells": [
  {
   "cell_type": "code",
   "execution_count": 254,
   "id": "0d2c3fdf",
   "metadata": {},
   "outputs": [],
   "source": [
    "import pandas as pd"
   ]
  },
  {
   "cell_type": "code",
   "execution_count": 363,
   "id": "ee0e3e6b",
   "metadata": {},
   "outputs": [
    {
     "data": {
      "text/html": [
       "<div>\n",
       "<style scoped>\n",
       "    .dataframe tbody tr th:only-of-type {\n",
       "        vertical-align: middle;\n",
       "    }\n",
       "\n",
       "    .dataframe tbody tr th {\n",
       "        vertical-align: top;\n",
       "    }\n",
       "\n",
       "    .dataframe thead th {\n",
       "        text-align: right;\n",
       "    }\n",
       "</style>\n",
       "<table border=\"1\" class=\"dataframe\">\n",
       "  <thead>\n",
       "    <tr style=\"text-align: right;\">\n",
       "      <th></th>\n",
       "      <th>Unnamed: 0</th>\n",
       "      <th>Job_Designation</th>\n",
       "      <th>resume_text</th>\n",
       "      <th>JD</th>\n",
       "      <th>tokens</th>\n",
       "    </tr>\n",
       "  </thead>\n",
       "  <tbody>\n",
       "    <tr>\n",
       "      <th>0</th>\n",
       "      <td>0</td>\n",
       "      <td>systems administrator</td>\n",
       "      <td>web developer web developer web developer - hc...</td>\n",
       "      <td>Job Title: Web Developer\\n\\nJob Description:\\n...</td>\n",
       "      <td>1297.0</td>\n",
       "    </tr>\n",
       "    <tr>\n",
       "      <th>1</th>\n",
       "      <td>1</td>\n",
       "      <td>software developer,web developer,front end dev...</td>\n",
       "      <td>oracle database administrator oracle database ...</td>\n",
       "      <td>Job Title: Oracle Database Administrator \\n\\nJ...</td>\n",
       "      <td>1297.0</td>\n",
       "    </tr>\n",
       "    <tr>\n",
       "      <th>2</th>\n",
       "      <td>2</td>\n",
       "      <td>project manager</td>\n",
       "      <td>senior it project manager senior it project ma...</td>\n",
       "      <td>Job Title: Senior IT Project Manager\\n\\nLocati...</td>\n",
       "      <td>1297.0</td>\n",
       "    </tr>\n",
       "    <tr>\n",
       "      <th>3</th>\n",
       "      <td>3</td>\n",
       "      <td>systems administrator</td>\n",
       "      <td>lead web developer lead web developer freelanc...</td>\n",
       "      <td>Job Title: Lead Web Developer\\n\\nLocation: Ros...</td>\n",
       "      <td>1297.0</td>\n",
       "    </tr>\n",
       "    <tr>\n",
       "      <th>4</th>\n",
       "      <td>4</td>\n",
       "      <td>network administrator</td>\n",
       "      <td>driver driver driver - h beltran trucking san ...</td>\n",
       "      <td>Job Title: Security Analyst\\n\\nCompany: H Belt...</td>\n",
       "      <td>1297.0</td>\n",
       "    </tr>\n",
       "    <tr>\n",
       "      <th>...</th>\n",
       "      <td>...</td>\n",
       "      <td>...</td>\n",
       "      <td>...</td>\n",
       "      <td>...</td>\n",
       "      <td>...</td>\n",
       "    </tr>\n",
       "    <tr>\n",
       "      <th>1047</th>\n",
       "      <td>20551</td>\n",
       "      <td>web developer,software developer</td>\n",
       "      <td>senior web developer &amp; web project manager sen...</td>\n",
       "      <td>&lt;/s&gt;&lt;s&gt;&lt;s&gt;&lt;s&gt;job title: senior web developer &amp;...</td>\n",
       "      <td>363.0</td>\n",
       "    </tr>\n",
       "    <tr>\n",
       "      <th>1048</th>\n",
       "      <td>20552</td>\n",
       "      <td>systems administrator</td>\n",
       "      <td>project coordinator project coordinator servic...</td>\n",
       "      <td>&lt;/s&gt;&lt;s&gt;job title: project coordinator/service ...</td>\n",
       "      <td>466.0</td>\n",
       "    </tr>\n",
       "    <tr>\n",
       "      <th>1049</th>\n",
       "      <td>20553</td>\n",
       "      <td>web developer,software developer</td>\n",
       "      <td>sr. ui developer sr. ui developer sr. ui devel...</td>\n",
       "      <td>&lt;/s&gt;&lt;s&gt;&lt;s&gt;&lt;s&gt;job title: senior ui developer jo...</td>\n",
       "      <td>3158.0</td>\n",
       "    </tr>\n",
       "    <tr>\n",
       "      <th>1050</th>\n",
       "      <td>20554</td>\n",
       "      <td>web developer,software developer</td>\n",
       "      <td>network engineer network engineer network engi...</td>\n",
       "      <td>&lt;/s&gt;&lt;s&gt;job title: network engineer location: t...</td>\n",
       "      <td>1637.0</td>\n",
       "    </tr>\n",
       "    <tr>\n",
       "      <th>1051</th>\n",
       "      <td>20555</td>\n",
       "      <td>web developer,software developer</td>\n",
       "      <td>senior systems engineer / information systems ...</td>\n",
       "      <td>&lt;/s&gt;&lt;s&gt;&lt;s&gt;&lt;s&gt;job title: senior systems enginee...</td>\n",
       "      <td>1433.0</td>\n",
       "    </tr>\n",
       "  </tbody>\n",
       "</table>\n",
       "<p>22980 rows × 5 columns</p>\n",
       "</div>"
      ],
      "text/plain": [
       "      Unnamed: 0                                    Job_Designation  \\\n",
       "0              0                              systems administrator   \n",
       "1              1  software developer,web developer,front end dev...   \n",
       "2              2                                    project manager   \n",
       "3              3                              systems administrator   \n",
       "4              4                              network administrator   \n",
       "...          ...                                                ...   \n",
       "1047       20551                   web developer,software developer   \n",
       "1048       20552                              systems administrator   \n",
       "1049       20553                   web developer,software developer   \n",
       "1050       20554                   web developer,software developer   \n",
       "1051       20555                   web developer,software developer   \n",
       "\n",
       "                                            resume_text  \\\n",
       "0     web developer web developer web developer - hc...   \n",
       "1     oracle database administrator oracle database ...   \n",
       "2     senior it project manager senior it project ma...   \n",
       "3     lead web developer lead web developer freelanc...   \n",
       "4     driver driver driver - h beltran trucking san ...   \n",
       "...                                                 ...   \n",
       "1047  senior web developer & web project manager sen...   \n",
       "1048  project coordinator project coordinator servic...   \n",
       "1049  sr. ui developer sr. ui developer sr. ui devel...   \n",
       "1050  network engineer network engineer network engi...   \n",
       "1051  senior systems engineer / information systems ...   \n",
       "\n",
       "                                                     JD  tokens  \n",
       "0     Job Title: Web Developer\\n\\nJob Description:\\n...  1297.0  \n",
       "1     Job Title: Oracle Database Administrator \\n\\nJ...  1297.0  \n",
       "2     Job Title: Senior IT Project Manager\\n\\nLocati...  1297.0  \n",
       "3     Job Title: Lead Web Developer\\n\\nLocation: Ros...  1297.0  \n",
       "4     Job Title: Security Analyst\\n\\nCompany: H Belt...  1297.0  \n",
       "...                                                 ...     ...  \n",
       "1047  </s><s><s><s>job title: senior web developer &...   363.0  \n",
       "1048  </s><s>job title: project coordinator/service ...   466.0  \n",
       "1049  </s><s><s><s>job title: senior ui developer jo...  3158.0  \n",
       "1050  </s><s>job title: network engineer location: t...  1637.0  \n",
       "1051  </s><s><s><s>job title: senior systems enginee...  1433.0  \n",
       "\n",
       "[22980 rows x 5 columns]"
      ]
     },
     "execution_count": 363,
     "metadata": {},
     "output_type": "execute_result"
    }
   ],
   "source": [
    "df_all=pd.read_csv(\"df_all\")\n",
    "df_all"
   ]
  },
  {
   "cell_type": "code",
   "execution_count": 364,
   "id": "a55ca051",
   "metadata": {},
   "outputs": [],
   "source": [
    "df_all=df_all.drop(['Unnamed: 0','tokens'], axis =1)"
   ]
  },
  {
   "cell_type": "code",
   "execution_count": 365,
   "id": "122eb673",
   "metadata": {},
   "outputs": [
    {
     "data": {
      "text/plain": [
       "2"
      ]
     },
     "execution_count": 365,
     "metadata": {},
     "output_type": "execute_result"
    }
   ],
   "source": [
    "df_all.duplicated().sum()"
   ]
  },
  {
   "cell_type": "code",
   "execution_count": 366,
   "id": "ef62c936",
   "metadata": {},
   "outputs": [],
   "source": [
    "df_all= df_all.drop_duplicates()"
   ]
  },
  {
   "cell_type": "code",
   "execution_count": 367,
   "id": "2b7369e5",
   "metadata": {},
   "outputs": [
    {
     "data": {
      "text/plain": [
       "Job_Designation       0\n",
       "resume_text           0\n",
       "JD                 1320\n",
       "dtype: int64"
      ]
     },
     "execution_count": 367,
     "metadata": {},
     "output_type": "execute_result"
    }
   ],
   "source": [
    "df_all.isnull().sum()"
   ]
  },
  {
   "cell_type": "code",
   "execution_count": 368,
   "id": "ee3922f9",
   "metadata": {},
   "outputs": [],
   "source": [
    "df_all=df_all.dropna()"
   ]
  },
  {
   "cell_type": "code",
   "execution_count": 369,
   "id": "583f6a27",
   "metadata": {},
   "outputs": [
    {
     "data": {
      "text/plain": [
       "Job_Designation    0\n",
       "resume_text        0\n",
       "JD                 0\n",
       "dtype: int64"
      ]
     },
     "execution_count": 369,
     "metadata": {},
     "output_type": "execute_result"
    }
   ],
   "source": [
    "df_all.isnull().sum()"
   ]
  },
  {
   "cell_type": "code",
   "execution_count": 370,
   "id": "de20f101",
   "metadata": {},
   "outputs": [
    {
     "name": "stderr",
     "output_type": "stream",
     "text": [
      "[nltk_data] Downloading package wordnet to /home/hygumm/nltk_data...\n",
      "[nltk_data]   Package wordnet is already up-to-date!\n"
     ]
    },
    {
     "data": {
      "text/plain": [
       "True"
      ]
     },
     "execution_count": 370,
     "metadata": {},
     "output_type": "execute_result"
    }
   ],
   "source": [
    "import pandas as pd\n",
    "import nltk\n",
    "import re\n",
    "from nltk.stem import WordNetLemmatizer\n",
    "\n",
    "nltk.download('wordnet')"
   ]
  },
  {
   "cell_type": "code",
   "execution_count": 371,
   "id": "2aee8851",
   "metadata": {},
   "outputs": [],
   "source": [
    "df_all = df_all.rename(columns={'resume_text': 'Resume_Text', 'JD': 'Job_Description', 'similarity': 'Similarity','output':'Output'})"
   ]
  },
  {
   "cell_type": "code",
   "execution_count": 372,
   "id": "d10d9281",
   "metadata": {},
   "outputs": [],
   "source": [
    "def lowercase(text):\n",
    "    return text.lower()\n",
    "\n",
    "def remove_punctuation(text):\n",
    "    return re.sub(r'[^\\w\\s]', '', text)\n",
    "\n",
    "def tokenize(text):\n",
    "    return nltk.word_tokenize(text)\n",
    "\n",
    "def lemmatize(token_list):\n",
    "    lemmatizer = WordNetLemmatizer()\n",
    "    return [lemmatizer.lemmatize(token) for token in token_list]\n",
    "\n",
    "def preprocess_text(text):\n",
    "    text = lowercase(text)\n",
    "    text = remove_punctuation(text)\n",
    "    tokens = tokenize(text)\n",
    "    tokens = lemmatize(tokens)\n",
    "    return ' '.join(tokens)\n",
    "\n",
    "def preprocess_dataframe(df, columns):\n",
    "    for col in columns:\n",
    "        df[col] = df[col].apply(preprocess_text)\n",
    "    return df"
   ]
  },
  {
   "cell_type": "code",
   "execution_count": 373,
   "id": "04374444",
   "metadata": {},
   "outputs": [],
   "source": [
    "columns_to_preprocess = ['Resume_Text', 'Job_Description']\n",
    "df_all = preprocess_dataframe(df_all, columns_to_preprocess)"
   ]
  },
  {
   "cell_type": "code",
   "execution_count": 374,
   "id": "0a5b6c47",
   "metadata": {},
   "outputs": [],
   "source": [
    "#lemmatization and stopwords\n",
    "#df_all[\"resume_text\"] = df_all[\"resume_text\"].apply(preprocess_text)\n",
    "#df_all[\"Job_Designation\"] = df_all[\"Job_Designation\"].apply(preprocess_text)\n",
    "#df_all[\"JD\"] = df_all[\"JD\"].apply(preprocess_text)"
   ]
  },
  {
   "cell_type": "code",
   "execution_count": 378,
   "id": "7e14897b",
   "metadata": {},
   "outputs": [],
   "source": [
    "df_all = df_all.reset_index(drop=True)"
   ]
  },
  {
   "cell_type": "code",
   "execution_count": 379,
   "id": "4a77a99e",
   "metadata": {},
   "outputs": [],
   "source": [
    "Job_Description = df_all['Job_Description'].tolist()\n",
    "Resume_Text = df_all['Resume_Text'].tolist()"
   ]
  },
  {
   "cell_type": "code",
   "execution_count": 381,
   "id": "55f25bbd",
   "metadata": {},
   "outputs": [],
   "source": [
    "from sklearn.metrics.pairwise import cosine_similarity\n",
    "from sklearn.feature_extraction.text import CountVectorizer"
   ]
  },
  {
   "cell_type": "code",
   "execution_count": 383,
   "id": "c3c38e23",
   "metadata": {},
   "outputs": [
    {
     "data": {
      "text/html": [
       "<style>#sk-container-id-8 {color: black;background-color: white;}#sk-container-id-8 pre{padding: 0;}#sk-container-id-8 div.sk-toggleable {background-color: white;}#sk-container-id-8 label.sk-toggleable__label {cursor: pointer;display: block;width: 100%;margin-bottom: 0;padding: 0.3em;box-sizing: border-box;text-align: center;}#sk-container-id-8 label.sk-toggleable__label-arrow:before {content: \"▸\";float: left;margin-right: 0.25em;color: #696969;}#sk-container-id-8 label.sk-toggleable__label-arrow:hover:before {color: black;}#sk-container-id-8 div.sk-estimator:hover label.sk-toggleable__label-arrow:before {color: black;}#sk-container-id-8 div.sk-toggleable__content {max-height: 0;max-width: 0;overflow: hidden;text-align: left;background-color: #f0f8ff;}#sk-container-id-8 div.sk-toggleable__content pre {margin: 0.2em;color: black;border-radius: 0.25em;background-color: #f0f8ff;}#sk-container-id-8 input.sk-toggleable__control:checked~div.sk-toggleable__content {max-height: 200px;max-width: 100%;overflow: auto;}#sk-container-id-8 input.sk-toggleable__control:checked~label.sk-toggleable__label-arrow:before {content: \"▾\";}#sk-container-id-8 div.sk-estimator input.sk-toggleable__control:checked~label.sk-toggleable__label {background-color: #d4ebff;}#sk-container-id-8 div.sk-label input.sk-toggleable__control:checked~label.sk-toggleable__label {background-color: #d4ebff;}#sk-container-id-8 input.sk-hidden--visually {border: 0;clip: rect(1px 1px 1px 1px);clip: rect(1px, 1px, 1px, 1px);height: 1px;margin: -1px;overflow: hidden;padding: 0;position: absolute;width: 1px;}#sk-container-id-8 div.sk-estimator {font-family: monospace;background-color: #f0f8ff;border: 1px dotted black;border-radius: 0.25em;box-sizing: border-box;margin-bottom: 0.5em;}#sk-container-id-8 div.sk-estimator:hover {background-color: #d4ebff;}#sk-container-id-8 div.sk-parallel-item::after {content: \"\";width: 100%;border-bottom: 1px solid gray;flex-grow: 1;}#sk-container-id-8 div.sk-label:hover label.sk-toggleable__label {background-color: #d4ebff;}#sk-container-id-8 div.sk-serial::before {content: \"\";position: absolute;border-left: 1px solid gray;box-sizing: border-box;top: 0;bottom: 0;left: 50%;z-index: 0;}#sk-container-id-8 div.sk-serial {display: flex;flex-direction: column;align-items: center;background-color: white;padding-right: 0.2em;padding-left: 0.2em;position: relative;}#sk-container-id-8 div.sk-item {position: relative;z-index: 1;}#sk-container-id-8 div.sk-parallel {display: flex;align-items: stretch;justify-content: center;background-color: white;position: relative;}#sk-container-id-8 div.sk-item::before, #sk-container-id-8 div.sk-parallel-item::before {content: \"\";position: absolute;border-left: 1px solid gray;box-sizing: border-box;top: 0;bottom: 0;left: 50%;z-index: -1;}#sk-container-id-8 div.sk-parallel-item {display: flex;flex-direction: column;z-index: 1;position: relative;background-color: white;}#sk-container-id-8 div.sk-parallel-item:first-child::after {align-self: flex-end;width: 50%;}#sk-container-id-8 div.sk-parallel-item:last-child::after {align-self: flex-start;width: 50%;}#sk-container-id-8 div.sk-parallel-item:only-child::after {width: 0;}#sk-container-id-8 div.sk-dashed-wrapped {border: 1px dashed gray;margin: 0 0.4em 0.5em 0.4em;box-sizing: border-box;padding-bottom: 0.4em;background-color: white;}#sk-container-id-8 div.sk-label label {font-family: monospace;font-weight: bold;display: inline-block;line-height: 1.2em;}#sk-container-id-8 div.sk-label-container {text-align: center;}#sk-container-id-8 div.sk-container {/* jupyter's `normalize.less` sets `[hidden] { display: none; }` but bootstrap.min.css set `[hidden] { display: none !important; }` so we also need the `!important` here to be able to override the default hidden behavior on the sphinx rendered scikit-learn.org. See: https://github.com/scikit-learn/scikit-learn/issues/21755 */display: inline-block !important;position: relative;}#sk-container-id-8 div.sk-text-repr-fallback {display: none;}</style><div id=\"sk-container-id-8\" class=\"sk-top-container\"><div class=\"sk-text-repr-fallback\"><pre>CountVectorizer()</pre><b>In a Jupyter environment, please rerun this cell to show the HTML representation or trust the notebook. <br />On GitHub, the HTML representation is unable to render, please try loading this page with nbviewer.org.</b></div><div class=\"sk-container\" hidden><div class=\"sk-item\"><div class=\"sk-estimator sk-toggleable\"><input class=\"sk-toggleable__control sk-hidden--visually\" id=\"sk-estimator-id-8\" type=\"checkbox\" checked><label for=\"sk-estimator-id-8\" class=\"sk-toggleable__label sk-toggleable__label-arrow\">CountVectorizer</label><div class=\"sk-toggleable__content\"><pre>CountVectorizer()</pre></div></div></div></div></div>"
      ],
      "text/plain": [
       "CountVectorizer()"
      ]
     },
     "execution_count": 383,
     "metadata": {},
     "output_type": "execute_result"
    }
   ],
   "source": [
    "vectorizer = CountVectorizer()\n",
    "vectorizer.fit(df_all['Resume_Text'])"
   ]
  },
  {
   "cell_type": "code",
   "execution_count": 384,
   "id": "a32886fd",
   "metadata": {},
   "outputs": [],
   "source": [
    "similarities = []\n",
    "for i in range(len(df_all)):\n",
    "    resume_vector = vectorizer.transform([df_all.iloc[i]['Resume_Text']])\n",
    "    job_description_vector = vectorizer.transform([df_all.iloc[i]['Job_Description']])\n",
    "    similarity = cosine_similarity(resume_vector, job_description_vector)\n",
    "    similarities.append(similarity[0][0])"
   ]
  },
  {
   "cell_type": "code",
   "execution_count": 385,
   "id": "c821310b",
   "metadata": {},
   "outputs": [],
   "source": [
    "df_all['Similarity'] = similarities"
   ]
  },
  {
   "cell_type": "code",
   "execution_count": 394,
   "id": "c262c4a6",
   "metadata": {},
   "outputs": [
    {
     "name": "stdout",
     "output_type": "stream",
     "text": [
      "Number of similarities less than 0.8: 5564\n",
      "Number of similarities greater than 0.8: 16094\n",
      "21658\n",
      "(21658, 5)\n"
     ]
    }
   ],
   "source": [
    "count_less_than_05 = (df_all['Similarity'] < 0.8).sum()\n",
    "count_greater_than_05 = (df_all['Similarity'] > 0.8).sum()\n",
    "\n",
    "print(\"Number of similarities less than 0.8:\", count_less_than_05)\n",
    "print(\"Number of similarities greater than 0.8:\", count_greater_than_05)\n",
    "print(count_less_than_05+count_greater_than_05)\n",
    "print(df_all.shape)"
   ]
  },
  {
   "cell_type": "code",
   "execution_count": 387,
   "id": "4e630629",
   "metadata": {},
   "outputs": [],
   "source": [
    "df_all['Output'] = df_all['Similarity'].apply(lambda x: 'Match' if x > 0.8 else 'Not a Match')"
   ]
  },
  {
   "cell_type": "code",
   "execution_count": 388,
   "id": "61316497",
   "metadata": {},
   "outputs": [
    {
     "data": {
      "text/html": [
       "<div>\n",
       "<style scoped>\n",
       "    .dataframe tbody tr th:only-of-type {\n",
       "        vertical-align: middle;\n",
       "    }\n",
       "\n",
       "    .dataframe tbody tr th {\n",
       "        vertical-align: top;\n",
       "    }\n",
       "\n",
       "    .dataframe thead th {\n",
       "        text-align: right;\n",
       "    }\n",
       "</style>\n",
       "<table border=\"1\" class=\"dataframe\">\n",
       "  <thead>\n",
       "    <tr style=\"text-align: right;\">\n",
       "      <th></th>\n",
       "      <th>Job_Designation</th>\n",
       "      <th>Resume_Text</th>\n",
       "      <th>Job_Description</th>\n",
       "      <th>Similarity</th>\n",
       "      <th>Output</th>\n",
       "    </tr>\n",
       "  </thead>\n",
       "  <tbody>\n",
       "    <tr>\n",
       "      <th>0</th>\n",
       "      <td>systems administrator</td>\n",
       "      <td>web developer web developer web developer hca ...</td>\n",
       "      <td>job title web developer job description we are...</td>\n",
       "      <td>0.860581</td>\n",
       "      <td>Match</td>\n",
       "    </tr>\n",
       "    <tr>\n",
       "      <th>1</th>\n",
       "      <td>software developer,web developer,front end dev...</td>\n",
       "      <td>oracle database administrator oracle database ...</td>\n",
       "      <td>job title oracle database administrator job su...</td>\n",
       "      <td>0.855244</td>\n",
       "      <td>Match</td>\n",
       "    </tr>\n",
       "    <tr>\n",
       "      <th>2</th>\n",
       "      <td>project manager</td>\n",
       "      <td>senior it project manager senior it project ma...</td>\n",
       "      <td>job title senior it project manager location t...</td>\n",
       "      <td>0.844363</td>\n",
       "      <td>Match</td>\n",
       "    </tr>\n",
       "    <tr>\n",
       "      <th>3</th>\n",
       "      <td>systems administrator</td>\n",
       "      <td>lead web developer lead web developer freelanc...</td>\n",
       "      <td>job title lead web developer location rosevill...</td>\n",
       "      <td>0.848537</td>\n",
       "      <td>Match</td>\n",
       "    </tr>\n",
       "    <tr>\n",
       "      <th>4</th>\n",
       "      <td>network administrator</td>\n",
       "      <td>driver driver driver h beltran trucking san an...</td>\n",
       "      <td>job title security analyst company h beltran t...</td>\n",
       "      <td>0.840922</td>\n",
       "      <td>Match</td>\n",
       "    </tr>\n",
       "    <tr>\n",
       "      <th>...</th>\n",
       "      <td>...</td>\n",
       "      <td>...</td>\n",
       "      <td>...</td>\n",
       "      <td>...</td>\n",
       "      <td>...</td>\n",
       "    </tr>\n",
       "    <tr>\n",
       "      <th>21653</th>\n",
       "      <td>web developer,software developer</td>\n",
       "      <td>senior web developer web project manager senio...</td>\n",
       "      <td>ssssjob title senior web developer web project...</td>\n",
       "      <td>0.856145</td>\n",
       "      <td>Match</td>\n",
       "    </tr>\n",
       "    <tr>\n",
       "      <th>21654</th>\n",
       "      <td>systems administrator</td>\n",
       "      <td>project coordinator project coordinator servic...</td>\n",
       "      <td>ssjob title project coordinatorservice desk an...</td>\n",
       "      <td>0.868015</td>\n",
       "      <td>Match</td>\n",
       "    </tr>\n",
       "    <tr>\n",
       "      <th>21655</th>\n",
       "      <td>web developer,software developer</td>\n",
       "      <td>sr ui developer sr ui developer sr ui develope...</td>\n",
       "      <td>ssssjob title senior ui developer job descript...</td>\n",
       "      <td>0.841470</td>\n",
       "      <td>Match</td>\n",
       "    </tr>\n",
       "    <tr>\n",
       "      <th>21656</th>\n",
       "      <td>web developer,software developer</td>\n",
       "      <td>network engineer network engineer network engi...</td>\n",
       "      <td>ssjob title network engineer location tempe az...</td>\n",
       "      <td>0.862504</td>\n",
       "      <td>Match</td>\n",
       "    </tr>\n",
       "    <tr>\n",
       "      <th>21657</th>\n",
       "      <td>web developer,software developer</td>\n",
       "      <td>senior system engineer information system secu...</td>\n",
       "      <td>ssssjob title senior system engineerinformatio...</td>\n",
       "      <td>0.846119</td>\n",
       "      <td>Match</td>\n",
       "    </tr>\n",
       "  </tbody>\n",
       "</table>\n",
       "<p>21658 rows × 5 columns</p>\n",
       "</div>"
      ],
      "text/plain": [
       "                                         Job_Designation  \\\n",
       "0                                  systems administrator   \n",
       "1      software developer,web developer,front end dev...   \n",
       "2                                        project manager   \n",
       "3                                  systems administrator   \n",
       "4                                  network administrator   \n",
       "...                                                  ...   \n",
       "21653                   web developer,software developer   \n",
       "21654                              systems administrator   \n",
       "21655                   web developer,software developer   \n",
       "21656                   web developer,software developer   \n",
       "21657                   web developer,software developer   \n",
       "\n",
       "                                             Resume_Text  \\\n",
       "0      web developer web developer web developer hca ...   \n",
       "1      oracle database administrator oracle database ...   \n",
       "2      senior it project manager senior it project ma...   \n",
       "3      lead web developer lead web developer freelanc...   \n",
       "4      driver driver driver h beltran trucking san an...   \n",
       "...                                                  ...   \n",
       "21653  senior web developer web project manager senio...   \n",
       "21654  project coordinator project coordinator servic...   \n",
       "21655  sr ui developer sr ui developer sr ui develope...   \n",
       "21656  network engineer network engineer network engi...   \n",
       "21657  senior system engineer information system secu...   \n",
       "\n",
       "                                         Job_Description  Similarity Output  \n",
       "0      job title web developer job description we are...    0.860581  Match  \n",
       "1      job title oracle database administrator job su...    0.855244  Match  \n",
       "2      job title senior it project manager location t...    0.844363  Match  \n",
       "3      job title lead web developer location rosevill...    0.848537  Match  \n",
       "4      job title security analyst company h beltran t...    0.840922  Match  \n",
       "...                                                  ...         ...    ...  \n",
       "21653  ssssjob title senior web developer web project...    0.856145  Match  \n",
       "21654  ssjob title project coordinatorservice desk an...    0.868015  Match  \n",
       "21655  ssssjob title senior ui developer job descript...    0.841470  Match  \n",
       "21656  ssjob title network engineer location tempe az...    0.862504  Match  \n",
       "21657  ssssjob title senior system engineerinformatio...    0.846119  Match  \n",
       "\n",
       "[21658 rows x 5 columns]"
      ]
     },
     "execution_count": 388,
     "metadata": {},
     "output_type": "execute_result"
    }
   ],
   "source": [
    "df_all"
   ]
  },
  {
   "cell_type": "code",
   "execution_count": 389,
   "id": "67a3f5a7",
   "metadata": {},
   "outputs": [
    {
     "data": {
      "text/plain": [
       "(21658, 5)"
      ]
     },
     "execution_count": 389,
     "metadata": {},
     "output_type": "execute_result"
    }
   ],
   "source": [
    "df_all.shape"
   ]
  },
  {
   "cell_type": "code",
   "execution_count": 390,
   "id": "6346c1ae",
   "metadata": {},
   "outputs": [],
   "source": [
    "df_all.to_csv('final_df_3.csv', index=False)"
   ]
  }
 ],
 "metadata": {
  "kernelspec": {
   "display_name": "Python 3",
   "language": "python",
   "name": "python3"
  },
  "language_info": {
   "codemirror_mode": {
    "name": "ipython",
    "version": 3
   },
   "file_extension": ".py",
   "mimetype": "text/x-python",
   "name": "python",
   "nbconvert_exporter": "python",
   "pygments_lexer": "ipython3",
   "version": "3.8.10"
  }
 },
 "nbformat": 4,
 "nbformat_minor": 5
}
