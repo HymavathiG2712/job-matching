{
 "cells": [
  {
   "cell_type": "code",
   "execution_count": 1,
   "id": "f6aa42d7",
   "metadata": {},
   "outputs": [
    {
     "name": "stdout",
     "output_type": "stream",
     "text": [
      "Tue May  2 18:56:00 2023       \r\n",
      "+-----------------------------------------------------------------------------+\r\n",
      "| NVIDIA-SMI 525.60.13    Driver Version: 525.60.13    CUDA Version: 12.0     |\r\n",
      "|-------------------------------+----------------------+----------------------+\r\n",
      "| GPU  Name        Persistence-M| Bus-Id        Disp.A | Volatile Uncorr. ECC |\r\n",
      "| Fan  Temp  Perf  Pwr:Usage/Cap|         Memory-Usage | GPU-Util  Compute M. |\r\n",
      "|                               |                      |               MIG M. |\r\n",
      "|===============================+======================+======================|\r\n",
      "|   0  Quadro P6000        On   | 00000000:0A:00.0 Off |                  Off |\r\n",
      "| 26%   40C    P8    16W / 250W |      4MiB / 24576MiB |      0%      Default |\r\n",
      "|                               |                      |                  N/A |\r\n",
      "+-------------------------------+----------------------+----------------------+\r\n",
      "|   1  NVIDIA GeForce ...  On   | 00000000:0B:00.0 Off |                  N/A |\r\n",
      "|  0%   45C    P8    18W / 350W |      3MiB / 24576MiB |      0%      Default |\r\n",
      "|                               |                      |                  N/A |\r\n",
      "+-------------------------------+----------------------+----------------------+\r\n",
      "                                                                               \r\n",
      "+-----------------------------------------------------------------------------+\r\n",
      "| Processes:                                                                  |\r\n",
      "|  GPU   GI   CI        PID   Type   Process name                  GPU Memory |\r\n",
      "|        ID   ID                                                   Usage      |\r\n",
      "|=============================================================================|\r\n",
      "|  No running processes found                                                 |\r\n",
      "+-----------------------------------------------------------------------------+\r\n"
     ]
    }
   ],
   "source": [
    "!nvidia-smi"
   ]
  },
  {
   "cell_type": "code",
   "execution_count": 2,
   "id": "17ba7903",
   "metadata": {},
   "outputs": [],
   "source": [
    "import os\n",
    "os.environ['CUDA_VISIBLE_DEVICES'] = '1'  "
   ]
  },
  {
   "cell_type": "code",
   "execution_count": 3,
   "id": "a1c3c0c2",
   "metadata": {},
   "outputs": [
    {
     "name": "stderr",
     "output_type": "stream",
     "text": [
      "2023-05-02 18:56:02.774193: W tensorflow/stream_executor/platform/default/dso_loader.cc:64] Could not load dynamic library 'libcudart.so.11.0'; dlerror: libcudart.so.11.0: cannot open shared object file: No such file or directory\n",
      "2023-05-02 18:56:02.774212: I tensorflow/stream_executor/cuda/cudart_stub.cc:29] Ignore above cudart dlerror if you do not have a GPU set up on your machine.\n"
     ]
    }
   ],
   "source": [
    "import pandas as pd\n",
    "import numpy as np\n",
    "from sklearn.model_selection import train_test_split\n",
    "from keras.preprocessing.text import Tokenizer\n",
    "from keras.preprocessing.sequence import pad_sequences\n",
    "from keras.models import Sequential\n",
    "from keras.layers import Embedding, LSTM, Dense, Dropout\n",
    "from keras.callbacks import EarlyStopping, ModelCheckpoint\n",
    "from gensim.models import Word2Vec\n"
   ]
  },
  {
   "cell_type": "code",
   "execution_count": 4,
   "id": "3956d410",
   "metadata": {},
   "outputs": [],
   "source": [
    "\n",
    "# Load your dataset\n",
    "df = pd.read_csv(\"final_data.csv\")\n",
    "from sklearn.preprocessing import LabelEncoder\n",
    "\n",
    "\n",
    "# Create a LabelEncoder instance\n",
    "label_encoder = LabelEncoder()\n",
    "\n",
    "# Fit the LabelEncoder on the \"Output\" column and transform it\n",
    "df[\"Output\"] = label_encoder.fit_transform(df[\"Output\"])\n",
    "\n",
    "# Preprocess the data by combining the Resume_Text and Job_Description columns\n",
    "df[\"combined_text\"] = df[\"Resume_Text\"] + \" \" + df[\"Job_Description\"]\n"
   ]
  },
  {
   "cell_type": "code",
   "execution_count": 5,
   "id": "24e220ac",
   "metadata": {},
   "outputs": [
    {
     "data": {
      "text/html": [
       "<div>\n",
       "<style scoped>\n",
       "    .dataframe tbody tr th:only-of-type {\n",
       "        vertical-align: middle;\n",
       "    }\n",
       "\n",
       "    .dataframe tbody tr th {\n",
       "        vertical-align: top;\n",
       "    }\n",
       "\n",
       "    .dataframe thead th {\n",
       "        text-align: right;\n",
       "    }\n",
       "</style>\n",
       "<table border=\"1\" class=\"dataframe\">\n",
       "  <thead>\n",
       "    <tr style=\"text-align: right;\">\n",
       "      <th></th>\n",
       "      <th>Unnamed: 0</th>\n",
       "      <th>Resume_Text</th>\n",
       "      <th>Job_Description</th>\n",
       "      <th>similarity</th>\n",
       "      <th>similarity2</th>\n",
       "      <th>Output</th>\n",
       "      <th>combined_text</th>\n",
       "    </tr>\n",
       "  </thead>\n",
       "  <tbody>\n",
       "    <tr>\n",
       "      <th>0</th>\n",
       "      <td>0</td>\n",
       "      <td>sr python developer sr python developer sr pyt...</td>\n",
       "      <td>ssssjob title senior python developer job desc...</td>\n",
       "      <td>0.713416</td>\n",
       "      <td>0.928744</td>\n",
       "      <td>0</td>\n",
       "      <td>sr python developer sr python developer sr pyt...</td>\n",
       "    </tr>\n",
       "    <tr>\n",
       "      <th>1</th>\n",
       "      <td>1</td>\n",
       "      <td>full stack developer full stack developer full...</td>\n",
       "      <td>job title full stack developer location housto...</td>\n",
       "      <td>0.767558</td>\n",
       "      <td>0.977133</td>\n",
       "      <td>0</td>\n",
       "      <td>full stack developer full stack developer full...</td>\n",
       "    </tr>\n",
       "    <tr>\n",
       "      <th>2</th>\n",
       "      <td>2</td>\n",
       "      <td>accountant summary financial accountant specia...</td>\n",
       "      <td>firewall architectlocation atlantaga 30339 dur...</td>\n",
       "      <td>0.040615</td>\n",
       "      <td>0.327215</td>\n",
       "      <td>1</td>\n",
       "      <td>accountant summary financial accountant specia...</td>\n",
       "    </tr>\n",
       "    <tr>\n",
       "      <th>3</th>\n",
       "      <td>3</td>\n",
       "      <td>bilingual pretrial supervisor bilingual pretri...</td>\n",
       "      <td>ssjob title bilingual pretrial supervisor loca...</td>\n",
       "      <td>0.783257</td>\n",
       "      <td>0.972054</td>\n",
       "      <td>0</td>\n",
       "      <td>bilingual pretrial supervisor bilingual pretri...</td>\n",
       "    </tr>\n",
       "    <tr>\n",
       "      <th>4</th>\n",
       "      <td>4</td>\n",
       "      <td>database administrator database administrator ...</td>\n",
       "      <td>ssjob title database administrator location ch...</td>\n",
       "      <td>0.728063</td>\n",
       "      <td>0.935685</td>\n",
       "      <td>0</td>\n",
       "      <td>database administrator database administrator ...</td>\n",
       "    </tr>\n",
       "    <tr>\n",
       "      <th>...</th>\n",
       "      <td>...</td>\n",
       "      <td>...</td>\n",
       "      <td>...</td>\n",
       "      <td>...</td>\n",
       "      <td>...</td>\n",
       "      <td>...</td>\n",
       "      <td>...</td>\n",
       "    </tr>\n",
       "    <tr>\n",
       "      <th>19838</th>\n",
       "      <td>19838</td>\n",
       "      <td>technical support engineer technical support e...</td>\n",
       "      <td>sssjob title technical support engineer locati...</td>\n",
       "      <td>0.703768</td>\n",
       "      <td>0.898069</td>\n",
       "      <td>0</td>\n",
       "      <td>technical support engineer technical support e...</td>\n",
       "    </tr>\n",
       "    <tr>\n",
       "      <th>19839</th>\n",
       "      <td>19839</td>\n",
       "      <td>system administrator system administrator gard...</td>\n",
       "      <td>ssssjob title senior system administrator loca...</td>\n",
       "      <td>0.714000</td>\n",
       "      <td>0.913010</td>\n",
       "      <td>0</td>\n",
       "      <td>system administrator system administrator gard...</td>\n",
       "    </tr>\n",
       "    <tr>\n",
       "      <th>19840</th>\n",
       "      <td>19840</td>\n",
       "      <td>freelance website designer summary marine corp...</td>\n",
       "      <td>net integration developer longterm contract mt...</td>\n",
       "      <td>0.105613</td>\n",
       "      <td>0.500174</td>\n",
       "      <td>1</td>\n",
       "      <td>freelance website designer summary marine corp...</td>\n",
       "    </tr>\n",
       "    <tr>\n",
       "      <th>19841</th>\n",
       "      <td>19841</td>\n",
       "      <td>director finance professional summary progress...</td>\n",
       "      <td>senior javascript developer learn mean stack e...</td>\n",
       "      <td>0.060547</td>\n",
       "      <td>0.177197</td>\n",
       "      <td>1</td>\n",
       "      <td>director finance professional summary progress...</td>\n",
       "    </tr>\n",
       "    <tr>\n",
       "      <th>19842</th>\n",
       "      <td>19842</td>\n",
       "      <td>python developer python developer python devel...</td>\n",
       "      <td>ssssjob title python developer job description...</td>\n",
       "      <td>0.751070</td>\n",
       "      <td>0.950240</td>\n",
       "      <td>0</td>\n",
       "      <td>python developer python developer python devel...</td>\n",
       "    </tr>\n",
       "  </tbody>\n",
       "</table>\n",
       "<p>19843 rows × 7 columns</p>\n",
       "</div>"
      ],
      "text/plain": [
       "       Unnamed: 0                                        Resume_Text  \\\n",
       "0               0  sr python developer sr python developer sr pyt...   \n",
       "1               1  full stack developer full stack developer full...   \n",
       "2               2  accountant summary financial accountant specia...   \n",
       "3               3  bilingual pretrial supervisor bilingual pretri...   \n",
       "4               4  database administrator database administrator ...   \n",
       "...           ...                                                ...   \n",
       "19838       19838  technical support engineer technical support e...   \n",
       "19839       19839  system administrator system administrator gard...   \n",
       "19840       19840  freelance website designer summary marine corp...   \n",
       "19841       19841  director finance professional summary progress...   \n",
       "19842       19842  python developer python developer python devel...   \n",
       "\n",
       "                                         Job_Description  similarity  \\\n",
       "0      ssssjob title senior python developer job desc...    0.713416   \n",
       "1      job title full stack developer location housto...    0.767558   \n",
       "2      firewall architectlocation atlantaga 30339 dur...    0.040615   \n",
       "3      ssjob title bilingual pretrial supervisor loca...    0.783257   \n",
       "4      ssjob title database administrator location ch...    0.728063   \n",
       "...                                                  ...         ...   \n",
       "19838  sssjob title technical support engineer locati...    0.703768   \n",
       "19839  ssssjob title senior system administrator loca...    0.714000   \n",
       "19840  net integration developer longterm contract mt...    0.105613   \n",
       "19841  senior javascript developer learn mean stack e...    0.060547   \n",
       "19842  ssssjob title python developer job description...    0.751070   \n",
       "\n",
       "       similarity2  Output                                      combined_text  \n",
       "0         0.928744       0  sr python developer sr python developer sr pyt...  \n",
       "1         0.977133       0  full stack developer full stack developer full...  \n",
       "2         0.327215       1  accountant summary financial accountant specia...  \n",
       "3         0.972054       0  bilingual pretrial supervisor bilingual pretri...  \n",
       "4         0.935685       0  database administrator database administrator ...  \n",
       "...            ...     ...                                                ...  \n",
       "19838     0.898069       0  technical support engineer technical support e...  \n",
       "19839     0.913010       0  system administrator system administrator gard...  \n",
       "19840     0.500174       1  freelance website designer summary marine corp...  \n",
       "19841     0.177197       1  director finance professional summary progress...  \n",
       "19842     0.950240       0  python developer python developer python devel...  \n",
       "\n",
       "[19843 rows x 7 columns]"
      ]
     },
     "execution_count": 5,
     "metadata": {},
     "output_type": "execute_result"
    }
   ],
   "source": [
    "df"
   ]
  },
  {
   "cell_type": "code",
   "execution_count": 6,
   "id": "a359bbc7",
   "metadata": {},
   "outputs": [
    {
     "data": {
      "text/plain": [
       "Text(0.5, 0, 'Length of Combined Text')"
      ]
     },
     "execution_count": 6,
     "metadata": {},
     "output_type": "execute_result"
    },
    {
     "data": {
      "image/png": "[encoded data removed]",
      "text/plain": [
       "<Figure size 432x288 with 1 Axes>"
      ]
     },
     "metadata": {
      "needs_background": "light"
     },
     "output_type": "display_data"
    }
   ],
   "source": [
    "import matplotlib.pyplot as plt\n",
    "\n",
    "df[\"combined_text\"] = df[\"combined_text\"].astype(str) # convert all values to string\n",
    "lengths = [len(text.split()) for text in df[\"combined_text\"]]\n",
    "plt.hist(lengths, bins=50)\n",
    "plt.xlabel(\"Length of Combined Text\")\n"
   ]
  },
  {
   "cell_type": "code",
   "execution_count": 7,
   "id": "58daaf11",
   "metadata": {},
   "outputs": [],
   "source": [
    "# Tokenize and pad the text data\n",
    "max_len = int(np.percentile(lengths, 95))  # 95th percentile\n",
    "tokenizer = Tokenizer()\n",
    "tokenizer.fit_on_texts(df[\"combined_text\"])\n",
    "sequences = tokenizer.texts_to_sequences(df[\"combined_text\"])\n",
    "word_index = tokenizer.word_index\n",
    "data = pad_sequences(sequences, maxlen=max_len)\n",
    "\n"
   ]
  },
  {
   "cell_type": "code",
   "execution_count": 8,
   "id": "5f71e77d",
   "metadata": {},
   "outputs": [],
   "source": [
    "# Load your trained word2vec model\n",
    "word2vec = Word2Vec.load(\"Lastword2vec.model\")\n"
   ]
  },
  {
   "cell_type": "code",
   "execution_count": 9,
   "id": "ad8b5f3a",
   "metadata": {},
   "outputs": [],
   "source": [
    "embedding_dim = 100  # Update this to match the vector_size you used in your word2vec model\n",
    "embedding_matrix = np.zeros((len(word_index) + 1, embedding_dim))\n",
    "for word, i in word_index.items():\n",
    "    if word in word2vec.wv:\n",
    "        embedding_matrix[i] = word2vec.wv[word]\n"
   ]
  },
  {
   "cell_type": "code",
   "execution_count": 10,
   "id": "70b1457d",
   "metadata": {},
   "outputs": [
    {
     "name": "stderr",
     "output_type": "stream",
     "text": [
      "2023-05-02 18:57:02.185908: I tensorflow/stream_executor/cuda/cuda_gpu_executor.cc:939] successful NUMA node read from SysFS had negative value (-1), but there must be at least one NUMA node, so returning NUMA node zero\n",
      "2023-05-02 18:57:02.186236: W tensorflow/stream_executor/platform/default/dso_loader.cc:64] Could not load dynamic library 'libcudart.so.11.0'; dlerror: libcudart.so.11.0: cannot open shared object file: No such file or directory\n",
      "2023-05-02 18:57:02.186300: W tensorflow/stream_executor/platform/default/dso_loader.cc:64] Could not load dynamic library 'libcublas.so.11'; dlerror: libcublas.so.11: cannot open shared object file: No such file or directory\n",
      "2023-05-02 18:57:02.186356: W tensorflow/stream_executor/platform/default/dso_loader.cc:64] Could not load dynamic library 'libcublasLt.so.11'; dlerror: libcublasLt.so.11: cannot open shared object file: No such file or directory\n",
      "2023-05-02 18:57:02.186410: W tensorflow/stream_executor/platform/default/dso_loader.cc:64] Could not load dynamic library 'libcufft.so.10'; dlerror: libcufft.so.10: cannot open shared object file: No such file or directory\n",
      "2023-05-02 18:57:02.199310: W tensorflow/stream_executor/platform/default/dso_loader.cc:64] Could not load dynamic library 'libcusparse.so.11'; dlerror: libcusparse.so.11: cannot open shared object file: No such file or directory\n",
      "2023-05-02 18:57:02.199393: W tensorflow/core/common_runtime/gpu/gpu_device.cc:1850] Cannot dlopen some GPU libraries. Please make sure the missing libraries mentioned above are installed properly if you would like to use GPU. Follow the guide at https://www.tensorflow.org/install/gpu for how to download and setup the required libraries for your platform.\n",
      "Skipping registering GPU devices...\n",
      "2023-05-02 18:57:02.199681: I tensorflow/core/platform/cpu_feature_guard.cc:151] This TensorFlow binary is optimized with oneAPI Deep Neural Network Library (oneDNN) to use the following CPU instructions in performance-critical operations:  AVX2 FMA\n",
      "To enable them in other operations, rebuild TensorFlow with the appropriate compiler flags.\n"
     ]
    }
   ],
   "source": [
    "from keras.layers import Bidirectional\n",
    "from keras.regularizers import l2\n",
    "from tensorflow import keras\n",
    "\n",
    "\n",
    "# Create the BiLSTM model\n",
    "model = Sequential()\n",
    "model.add(Embedding(len(word_index) + 1, embedding_dim, weights=[embedding_matrix], input_length=max_len, trainable=False))\n",
    "model.add(Bidirectional(LSTM(64, return_sequences=True)))\n",
    "#model.add(Dropout(0.2))\n",
    "model.add(Bidirectional(LSTM(64)))\n",
    "model.add(Dropout(0.2))\n",
    "model.add(Dense(32, activation=\"relu\", kernel_regularizer=l2(0.01)))\n",
    "model.add(Dense(1, activation=\"sigmoid\", kernel_regularizer=l2(0.01)))\n",
    "\n",
    "# Custom Adam optimizer with a smaller learning rate\n",
    "optimizer = keras.optimizers.Adam(learning_rate=0.01)\n",
    "\n",
    "model.compile(loss=\"binary_crossentropy\", optimizer=optimizer, metrics=[\"accuracy\"])\n"
   ]
  },
  {
   "cell_type": "code",
   "execution_count": 11,
   "id": "63cc975a",
   "metadata": {},
   "outputs": [],
   "source": [
    "\n",
    "# Split the data into training and validation sets\n",
    "X_train, X_val, y_train, y_val = train_test_split(data, df[\"Output\"], test_size=0.2, random_state=42)\n",
    "\n"
   ]
  },
  {
   "cell_type": "code",
   "execution_count": 12,
   "id": "d19e63d3",
   "metadata": {},
   "outputs": [],
   "source": [
    "# Train the model with early stopping\n",
    "batch_size = 32\n",
    "epochs = 5\n",
    "early_stopping = EarlyStopping(monitor=\"val_loss\", patience=3, restore_best_weights=True)\n",
    "checkpoint = ModelCheckpoint(\"biLSTMmodelFinal.h5\", save_best_only=True, monitor=\"val_loss\", mode=\"min\")\n",
    "\n"
   ]
  },
  {
   "cell_type": "code",
   "execution_count": 13,
   "id": "e24b1c36",
   "metadata": {},
   "outputs": [],
   "source": [
    "import torch\n",
    "\n",
    "torch.cuda.empty_cache()"
   ]
  },
  {
   "cell_type": "code",
   "execution_count": 14,
   "id": "dcc51b3b",
   "metadata": {},
   "outputs": [
    {
     "name": "stdout",
     "output_type": "stream",
     "text": [
      "Epoch 1/5\n",
      "497/497 [==============================] - 445s 891ms/step - loss: 0.2160 - accuracy: 0.9465 - val_loss: 0.0968 - val_accuracy: 0.9866\n",
      "Epoch 2/5\n",
      "497/497 [==============================] - 454s 914ms/step - loss: 0.0913 - accuracy: 0.9874 - val_loss: 0.0745 - val_accuracy: 0.9904\n",
      "Epoch 3/5\n",
      "497/497 [==============================] - 454s 914ms/step - loss: 0.0797 - accuracy: 0.9893 - val_loss: 0.1092 - val_accuracy: 0.9874\n",
      "Epoch 4/5\n",
      "497/497 [==============================] - 454s 915ms/step - loss: 0.0943 - accuracy: 0.9880 - val_loss: 0.0919 - val_accuracy: 0.9884\n",
      "Epoch 5/5\n",
      "497/497 [==============================] - 455s 916ms/step - loss: 0.0832 - accuracy: 0.9896 - val_loss: 0.0817 - val_accuracy: 0.9892\n"
     ]
    }
   ],
   "source": [
    "torch.cuda.empty_cache()\n",
    "history = model.fit(X_train, y_train, validation_data=(X_val, y_val), epochs=epochs, batch_size=batch_size, callbacks=[early_stopping, checkpoint])\n"
   ]
  },
  {
   "cell_type": "code",
   "execution_count": 15,
   "id": "31c164c9",
   "metadata": {},
   "outputs": [
    {
     "name": "stdout",
     "output_type": "stream",
     "text": [
      "              precision    recall  f1-score   support\n",
      "\n",
      "       MATCH       0.99      0.99      0.99      1915\n",
      "   NOT MATCH       0.99      1.00      0.99      2054\n",
      "\n",
      "    accuracy                           0.99      3969\n",
      "   macro avg       0.99      0.99      0.99      3969\n",
      "weighted avg       0.99      0.99      0.99      3969\n",
      "\n"
     ]
    }
   ],
   "source": [
    "import numpy as np\n",
    "import keras\n",
    "from sklearn.metrics import classification_report\n",
    "\n",
    "# Load the saved model from H5 file\n",
    "#model = keras.models.load_model('LASTLSTMmodel.h5')\n",
    "\n",
    "\n",
    "# Use the model to predict labels for test data\n",
    "y_pred = model.predict(X_val)\n",
    "y_pred = (model.predict(X_val) > 0.5).astype(\"int32\")\n",
    "\n",
    "# Print classification report\n",
    "target_names = ['MATCH',\"NOT MATCH\"] # List of class names\n",
    "print(classification_report(y_val, y_pred, target_names=target_names))"
   ]
  },
  {
   "cell_type": "code",
   "execution_count": null,
   "id": "2083ec54",
   "metadata": {},
   "outputs": [],
   "source": []
  }
 ],
 "metadata": {
  "kernelspec": {
   "display_name": "Python 3 (ipykernel)",
   "language": "python",
   "name": "python3"
  },
  "language_info": {
   "codemirror_mode": {
    "name": "ipython",
    "version": 3
   },
   "file_extension": ".py",
   "mimetype": "text/x-python",
   "name": "python",
   "nbconvert_exporter": "python",
   "pygments_lexer": "ipython3",
   "version": "3.9.7"
  }
 },
 "nbformat": 4,
 "nbformat_minor": 5
}
